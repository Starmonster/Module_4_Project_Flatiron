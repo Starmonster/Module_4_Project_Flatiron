{
 "cells": [
  {
   "cell_type": "markdown",
   "metadata": {},
   "source": [
    "## <font color=blue>Jupyter Setup<font/>"
   ]
  },
  {
   "cell_type": "markdown",
   "metadata": {},
   "source": [
    "###  Import required libraries:"
   ]
  },
  {
   "cell_type": "code",
   "execution_count": 1,
   "metadata": {},
   "outputs": [],
   "source": [
    "# surprise libraries\n",
    "from surprise import Dataset, dataset, Reader, accuracy\n",
    "from surprise.dataset import DatasetAutoFolds\n",
    "from surprise.trainset import Trainset\n",
    "from surprise.model_selection import GridSearchCV, cross_validate, train_test_split\n",
    "from surprise.prediction_algorithms import SVD, knns, baseline_only\n",
    "#from surprise.similarities import cosine, msd, pearson"
   ]
  },
  {
   "cell_type": "code",
   "execution_count": 3,
   "metadata": {},
   "outputs": [],
   "source": [
    "# sklearn libraries\n",
    "from sklearn.metrics.pairwise import linear_kernel"
   ]
  },
  {
   "cell_type": "code",
   "execution_count": 12,
   "metadata": {},
   "outputs": [],
   "source": [
    "#general libraries\n",
    "import pandas as pd\n",
    "import numpy as np\n",
    "import math\n",
    "from datetime import date, timedelta\n",
    "import matplotlib.pyplot as plt\n",
    "import seaborn as sns\n",
    "import time\n",
    "import random\n",
    "from random import randint\n",
    "%matplotlib inline"
   ]
  },
  {
   "cell_type": "code",
   "execution_count": 5,
   "metadata": {},
   "outputs": [],
   "source": [
    "pd.set_option('display.max_columns', 600)"
   ]
  },
  {
   "cell_type": "markdown",
   "metadata": {},
   "source": [
    "**<font color=black>----------------------------------------------------------------------------------------------------------------------------------------------------------------------------------------------------------------------------------------------------------------------------------------------------------------------------------------------------------<font>**"
   ]
  },
  {
   "cell_type": "markdown",
   "metadata": {},
   "source": [
    "## <font color=blue>Data Load<font/>"
   ]
  },
  {
   "cell_type": "markdown",
   "metadata": {},
   "source": [
    "### Load data:"
   ]
  },
  {
   "cell_type": "code",
   "execution_count": 6,
   "metadata": {},
   "outputs": [],
   "source": [
    "ratings = pd.read_csv('/Users/flatiron/Downloads/ml-latest-small/' + 'ratings.csv')\n",
    "\n",
    "movies = pd.read_csv('/Users/flatiron/Downloads/ml-latest-small/' + 'movies.csv')\n",
    "\n",
    "links = pd.read_csv('/Users/flatiron/Downloads/ml-latest-small/' + 'links.csv')\n",
    "\n",
    "tags = pd.read_csv('/Users/flatiron/Downloads/ml-latest-small/' + 'tags.csv')"
   ]
  },
  {
   "cell_type": "markdown",
   "metadata": {},
   "source": [
    "**<font color=black>----------------------------------------------------------------------------------------------------------------------------------------------------------------------------------------------------------------------------------------------------------------------------------------------------------------------------------------------------------<font>**"
   ]
  },
  {
   "cell_type": "markdown",
   "metadata": {},
   "source": [
    "## <font color=blue>Model Builds</font>\n"
   ]
  },
  {
   "cell_type": "markdown",
   "metadata": {},
   "source": [
    "## Collaborative Models"
   ]
  },
  {
   "cell_type": "markdown",
   "metadata": {},
   "source": [
    "### Ratings data preprocessing:"
   ]
  },
  {
   "cell_type": "code",
   "execution_count": 7,
   "metadata": {},
   "outputs": [],
   "source": [
    "# drop the timestamp column\n",
    "ratings_clean = ratings.drop('timestamp', axis = 1)"
   ]
  },
  {
   "cell_type": "code",
   "execution_count": 8,
   "metadata": {},
   "outputs": [],
   "source": [
    "class MyDataset(dataset.DatasetAutoFolds):\n",
    "    #   surprise.dataset.DatasetAutoFolds creates a Surprise friendly dataset\n",
    "    #   that has folds built within so we can perform cross-validation\n",
    "    \n",
    "    def __init__(self, df, reader):\n",
    "\n",
    "        self.raw_ratings = [(uid, iid, r, None) for (uid, iid, r) in\n",
    "                            zip(df['userId'], df['movieId'], df['rating'])]\n",
    "        self.reader=reader"
   ]
  },
  {
   "cell_type": "code",
   "execution_count": 9,
   "metadata": {},
   "outputs": [],
   "source": [
    "# instantiate the Reader parser object\n",
    "reader = Reader(line_format='user item rating', rating_scale=(0.0, 5.0))"
   ]
  },
  {
   "cell_type": "code",
   "execution_count": 10,
   "metadata": {},
   "outputs": [],
   "source": [
    "# parse ratings_clean dataframe into a Surprise friendly dataset \n",
    "data = MyDataset(ratings_clean, reader)"
   ]
  },
  {
   "cell_type": "code",
   "execution_count": 11,
   "metadata": {},
   "outputs": [
    {
     "data": {
      "text/plain": [
       "__main__.MyDataset"
      ]
     },
     "execution_count": 11,
     "metadata": {},
     "output_type": "execute_result"
    }
   ],
   "source": [
    "type(data)"
   ]
  },
  {
   "cell_type": "markdown",
   "metadata": {},
   "source": [
    "**<font color=black>-----------------------------------------------------------------------------------------------------------------------------------------------------------------------------<font>**"
   ]
  },
  {
   "cell_type": "markdown",
   "metadata": {},
   "source": [
    "### Train Validation Test Split:"
   ]
  },
  {
   "cell_type": "markdown",
   "metadata": {},
   "source": [
    "Our aim is to tune the parameters of the various recommender algorithms we will go on to buils. To have an **unbiased** estimation of the algorithms' performances we will perform a train validation test split.\n",
    "\n",
    "(The traditional method of train_test_split() does not allow for unbiased estimations)"
   ]
  },
  {
   "cell_type": "code",
   "execution_count": 13,
   "metadata": {},
   "outputs": [],
   "source": [
    "#   extract the raw_ratings from the dataset\n",
    "raw_ratings = data.raw_ratings"
   ]
  },
  {
   "cell_type": "code",
   "execution_count": 14,
   "metadata": {},
   "outputs": [],
   "source": [
    "#   shuffle ratings\n",
    "random.shuffle(raw_ratings)"
   ]
  },
  {
   "cell_type": "code",
   "execution_count": 15,
   "metadata": {},
   "outputs": [],
   "source": [
    "# test data = 15% of the data\n",
    "test_threshold = int(.85 * len(raw_ratings))\n",
    "\n",
    "train_raw_ratings = raw_ratings[:test_threshold]\n",
    "test_raw_ratings = raw_ratings[test_threshold:]"
   ]
  },
  {
   "cell_type": "code",
   "execution_count": 16,
   "metadata": {},
   "outputs": [],
   "source": [
    "# train data = 68% of the data, validation data = 17% of the data, \n",
    "train_threshold = int(.8 * len(train_raw_ratings))\n",
    "val_raw_ratings = train_raw_ratings[train_threshold:]\n",
    "train_raw_ratings = train_raw_ratings[:train_threshold]"
   ]
  },
  {
   "cell_type": "code",
   "execution_count": 17,
   "metadata": {},
   "outputs": [
    {
     "data": {
      "text/plain": [
       "100836"
      ]
     },
     "execution_count": 17,
     "metadata": {},
     "output_type": "execute_result"
    }
   ],
   "source": [
    "# size of original dataset:\n",
    "len(data.raw_ratings)"
   ]
  },
  {
   "cell_type": "code",
   "execution_count": 18,
   "metadata": {},
   "outputs": [
    {
     "data": {
      "text/plain": [
       "100836"
      ]
     },
     "execution_count": 18,
     "metadata": {},
     "output_type": "execute_result"
    }
   ],
   "source": [
    "# check no data has been lost during split:\n",
    "len(train_raw_ratings) + len(test_raw_ratings) + len(val_raw_ratings)"
   ]
  },
  {
   "cell_type": "code",
   "execution_count": 19,
   "metadata": {},
   "outputs": [],
   "source": [
    "data.raw_ratings = train_raw_ratings"
   ]
  },
  {
   "cell_type": "markdown",
   "metadata": {},
   "source": [
    "###  Memory Based (KNN) Methods:"
   ]
  },
  {
   "cell_type": "markdown",
   "metadata": {},
   "source": [
    "### 1st Model: KNNBasic with cosine similarity (user based)"
   ]
  },
  {
   "cell_type": "code",
   "execution_count": 29,
   "metadata": {},
   "outputs": [
    {
     "name": "stdout",
     "output_type": "stream",
     "text": [
      "Evaluating RMSE, MAE of algorithm KNNBasic on 3 split(s).\n",
      "\n",
      "                  Fold 1  Fold 2  Fold 3  Mean    Std     \n",
      "RMSE (testset)    0.9959  0.9993  0.9981  0.9978  0.0014  \n",
      "MAE (testset)     0.7693  0.7691  0.7726  0.7703  0.0016  \n",
      "RMSE (trainset)   0.8216  0.8202  0.8237  0.8218  0.0014  \n",
      "MAE (trainset)    0.6136  0.6143  0.6167  0.6149  0.0013  \n",
      "Fit time          0.28    0.30    0.31    0.30    0.01    \n",
      "Test time         1.43    1.63    1.63    1.56    0.09    \n"
     ]
    }
   ],
   "source": [
    "#   cosine similarity\n",
    "sim_cos = {'name':'cosine', 'user_based':True}\n",
    "\n",
    "#   instantiate the knns.KNNBasic() object with the similarity settings:\n",
    "basic_user = knns.KNNBasic(sim_options=sim_cos)\n",
    "\n",
    "#   fit the model\n",
    "simcos_cv_user = cross_validate(basic_user, data, measures=['rmse', 'mae'],\n",
    "                           cv = 3, return_train_measures=True, n_jobs= -1,\n",
    "                           verbose = True)"
   ]
  },
  {
   "cell_type": "markdown",
   "metadata": {},
   "source": [
    "**Overfit**"
   ]
  },
  {
   "cell_type": "markdown",
   "metadata": {},
   "source": [
    "### 2nd Model: KNNBasic with cosine similarity (item based)"
   ]
  },
  {
   "cell_type": "code",
   "execution_count": 30,
   "metadata": {},
   "outputs": [
    {
     "name": "stdout",
     "output_type": "stream",
     "text": [
      "Evaluating RMSE, MAE of algorithm KNNBasic on 3 split(s).\n",
      "\n",
      "                  Fold 1  Fold 2  Fold 3  Mean    Std     \n",
      "RMSE (testset)    0.9755  0.9813  0.9770  0.9779  0.0024  \n",
      "MAE (testset)     0.7588  0.7607  0.7580  0.7592  0.0011  \n",
      "RMSE (trainset)   0.9168  0.9177  0.9176  0.9173  0.0004  \n",
      "MAE (trainset)    0.7119  0.7139  0.7139  0.7132  0.0010  \n",
      "Fit time          18.03   17.89   17.25   17.73   0.34    \n",
      "Test time         9.18    9.15    8.82    9.05    0.17    \n"
     ]
    }
   ],
   "source": [
    "#   cosine similarity\n",
    "sim_cos = {'name':'cosine', 'user_based':False}\n",
    "\n",
    "#   instantiate the knns.KNNBasic() object with the similarity settings:\n",
    "basic_item = knns.KNNBasic(sim_options=sim_cos)\n",
    "\n",
    "#   fit the model\n",
    "simcos_cv_item = cross_validate(basic_item, data, measures=['rmse', 'mae'],\n",
    "                           cv = 3, return_train_measures=True, n_jobs= -1,\n",
    "                           verbose = True)"
   ]
  },
  {
   "cell_type": "markdown",
   "metadata": {},
   "source": [
    "### 3rd Model: KNNBaseline with pearson similarity (user based)"
   ]
  },
  {
   "cell_type": "code",
   "execution_count": 31,
   "metadata": {},
   "outputs": [
    {
     "name": "stdout",
     "output_type": "stream",
     "text": [
      "Evaluating RMSE, MAE of algorithm KNNBaseline on 3 split(s).\n",
      "\n",
      "                  Fold 1  Fold 2  Fold 3  Mean    Std     \n",
      "RMSE (testset)    0.9173  0.9136  0.9198  0.9169  0.0026  \n",
      "MAE (testset)     0.7016  0.7011  0.7044  0.7024  0.0015  \n",
      "RMSE (trainset)   0.5265  0.5279  0.5259  0.5267  0.0008  \n",
      "MAE (trainset)    0.3784  0.3788  0.3786  0.3786  0.0002  \n",
      "Fit time          0.32    0.49    0.69    0.50    0.15    \n",
      "Test time         1.93    2.76    3.18    2.62    0.52    \n"
     ]
    }
   ],
   "source": [
    "sim_pearson = {'name':'pearson', 'user_based':True}\n",
    "\n",
    "knn_baseline_user = knns.KNNBaseline(sim_options=sim_pearson)\n",
    "\n",
    "sim_pearson_cv_user = cross_validate(knn_baseline_user, data, measures=['rmse', 'mae'],\n",
    "                           cv = 3, return_train_measures=True, n_jobs= -1,\n",
    "                           verbose = True)"
   ]
  },
  {
   "cell_type": "markdown",
   "metadata": {},
   "source": [
    "**overfit**"
   ]
  },
  {
   "cell_type": "markdown",
   "metadata": {},
   "source": [
    "### 4th Model: KNNBaseline with pearson similarity (item based)"
   ]
  },
  {
   "cell_type": "code",
   "execution_count": 32,
   "metadata": {},
   "outputs": [
    {
     "name": "stdout",
     "output_type": "stream",
     "text": [
      "Evaluating RMSE, MAE of algorithm KNNBaseline on 3 split(s).\n",
      "\n",
      "                  Fold 1  Fold 2  Fold 3  Mean    Std     \n",
      "RMSE (testset)    0.9047  0.9054  0.9035  0.9045  0.0008  \n",
      "MAE (testset)     0.6910  0.6929  0.6933  0.6924  0.0010  \n",
      "RMSE (trainset)   0.5309  0.5272  0.5304  0.5295  0.0017  \n",
      "MAE (trainset)    0.3918  0.3879  0.3898  0.3898  0.0016  \n",
      "Fit time          27.02   27.25   25.81   26.69   0.63    \n",
      "Test time         10.87   10.33   9.95    10.38   0.38    \n"
     ]
    }
   ],
   "source": [
    "sim_pearson = {'name':'pearson', 'user_based':False}\n",
    "\n",
    "knn_baseline_item = knns.KNNBaseline(sim_options=sim_pearson)\n",
    "\n",
    "sim_pearson_cv_item = cross_validate(knn_baseline_item, data, measures=['rmse', 'mae'],\n",
    "                           cv = 3, return_train_measures=True, n_jobs= -1,\n",
    "                           verbose = True)"
   ]
  },
  {
   "cell_type": "markdown",
   "metadata": {},
   "source": [
    "**overfit**"
   ]
  },
  {
   "cell_type": "markdown",
   "metadata": {},
   "source": [
    "### 5th Model: KNNWithMeans with pearson similarity (user based)"
   ]
  },
  {
   "cell_type": "code",
   "execution_count": 33,
   "metadata": {},
   "outputs": [
    {
     "name": "stdout",
     "output_type": "stream",
     "text": [
      "Evaluating RMSE, MAE of algorithm KNNWithMeans on 3 split(s).\n",
      "\n",
      "                  Fold 1  Fold 2  Fold 3  Mean    Std     \n",
      "RMSE (testset)    0.9401  0.9493  0.9344  0.9412  0.0061  \n",
      "MAE (testset)     0.7143  0.7238  0.7127  0.7169  0.0049  \n",
      "RMSE (trainset)   0.5375  0.5307  0.5352  0.5345  0.0028  \n",
      "MAE (trainset)    0.3854  0.3794  0.3826  0.3825  0.0025  \n",
      "Fit time          0.33    0.51    0.56    0.47    0.10    \n",
      "Test time         1.47    1.87    2.05    1.79    0.24    \n"
     ]
    }
   ],
   "source": [
    "sim_pearson = {'name':'pearson', 'user_based':True}\n",
    "\n",
    "knn_WithMeans_user = knns.KNNWithMeans(sim_options=sim_pearson)\n",
    "\n",
    "sim_pearson_wm_cv_user = cross_validate(knn_WithMeans_user, data, measures=['rmse', 'mae'],\n",
    "                           cv = 3, return_train_measures=True, n_jobs= -1,\n",
    "                           verbose = True)"
   ]
  },
  {
   "cell_type": "markdown",
   "metadata": {},
   "source": [
    "**overfit**"
   ]
  },
  {
   "cell_type": "markdown",
   "metadata": {},
   "source": [
    "### 6th Model: KNNWithMeans with pearson similarity (item based)"
   ]
  },
  {
   "cell_type": "code",
   "execution_count": 35,
   "metadata": {},
   "outputs": [
    {
     "name": "stdout",
     "output_type": "stream",
     "text": [
      "Evaluating RMSE, MAE of algorithm KNNWithMeans on 3 split(s).\n",
      "\n",
      "                  Fold 1  Fold 2  Fold 3  Mean    Std     \n",
      "RMSE (testset)    0.9459  0.9464  0.9513  0.9479  0.0024  \n",
      "MAE (testset)     0.7204  0.7194  0.7240  0.7212  0.0020  \n",
      "RMSE (trainset)   0.4801  0.4777  0.4788  0.4789  0.0010  \n",
      "MAE (trainset)    0.3474  0.3453  0.3466  0.3464  0.0009  \n",
      "Fit time          40.04   40.00   35.59   38.54   2.09    \n",
      "Test time         10.74   10.45   10.32   10.50   0.18    \n"
     ]
    }
   ],
   "source": [
    "sim_pearson = {'name':'pearson', 'user_based':False}\n",
    "\n",
    "knn_WithMeans_item = knns.KNNWithMeans(sim_options=sim_pearson)\n",
    "\n",
    "sim_pearson_wm_cv_item = cross_validate(knn_WithMeans_item, data, measures=['rmse', 'mae'],\n",
    "                           cv = 3, return_train_measures=True, n_jobs= -1,\n",
    "                           verbose = True)"
   ]
  },
  {
   "cell_type": "markdown",
   "metadata": {},
   "source": [
    "**overfit**"
   ]
  },
  {
   "cell_type": "markdown",
   "metadata": {},
   "source": [
    "###  Model Based Methods:"
   ]
  },
  {
   "cell_type": "markdown",
   "metadata": {},
   "source": [
    "### 7th Model: Alternate Least Squares (with hyperparameter tuning)"
   ]
  },
  {
   "cell_type": "code",
   "execution_count": 155,
   "metadata": {},
   "outputs": [
    {
     "name": "stdout",
     "output_type": "stream",
     "text": [
      "number of gridsearch permutations: 80\n"
     ]
    }
   ],
   "source": [
    "# create hyperparameter permutations\n",
    "\n",
    "epochs = [3, 5, 10, 20]\n",
    "reg_u = [5, 10, 12, 15, 20]\n",
    "reg_i = [3, 5, 10, 15]\n",
    "\n",
    "params = [[i, j, k] for i in epochs  \n",
    "                 for j in reg_u \n",
    "                 for k in reg_i]\n",
    "\n",
    "print('number of gridsearch permutations:', len(params))"
   ]
  },
  {
   "cell_type": "code",
   "execution_count": 158,
   "metadata": {},
   "outputs": [
    {
     "name": "stdout",
     "output_type": "stream",
     "text": [
      "Estimating biases using als...\n",
      "Estimating biases using als...\n",
      "Estimating biases using als...\n",
      "Estimating biases using als...\n",
      "Estimating biases using als...\n",
      "Estimating biases using als...\n",
      "Estimating biases using als...\n",
      "Estimating biases using als...\n",
      "Estimating biases using als...\n",
      "Estimating biases using als...\n",
      "Estimating biases using als...\n",
      "Estimating biases using als...\n",
      "Estimating biases using als...\n",
      "Estimating biases using als...\n",
      "Estimating biases using als...\n",
      "Estimating biases using als...\n",
      "Estimating biases using als...\n",
      "Estimating biases using als...\n",
      "Estimating biases using als...\n",
      "Estimating biases using als...\n",
      "Estimating biases using als...\n",
      "Estimating biases using als...\n",
      "Estimating biases using als...\n",
      "Estimating biases using als...\n",
      "Estimating biases using als...\n",
      "Estimating biases using als...\n",
      "Estimating biases using als...\n",
      "Estimating biases using als...\n",
      "Estimating biases using als...\n",
      "Estimating biases using als...\n",
      "Estimating biases using als...\n",
      "Estimating biases using als...\n",
      "Estimating biases using als...\n",
      "Estimating biases using als...\n",
      "Estimating biases using als...\n",
      "Estimating biases using als...\n",
      "Estimating biases using als...\n",
      "Estimating biases using als...\n",
      "Estimating biases using als...\n",
      "Estimating biases using als...\n",
      "Estimating biases using als...\n",
      "Estimating biases using als...\n",
      "Estimating biases using als...\n",
      "Estimating biases using als...\n",
      "Estimating biases using als...\n",
      "Estimating biases using als...\n",
      "Estimating biases using als...\n",
      "Estimating biases using als...\n",
      "Estimating biases using als...\n",
      "Estimating biases using als...\n",
      "Estimating biases using als...\n",
      "Estimating biases using als...\n",
      "Estimating biases using als...\n",
      "Estimating biases using als...\n",
      "Estimating biases using als...\n",
      "Estimating biases using als...\n",
      "Estimating biases using als...\n",
      "Estimating biases using als...\n",
      "Estimating biases using als...\n",
      "Estimating biases using als...\n",
      "Estimating biases using als...\n",
      "Estimating biases using als...\n",
      "Estimating biases using als...\n",
      "Estimating biases using als...\n",
      "Estimating biases using als...\n",
      "Estimating biases using als...\n",
      "Estimating biases using als...\n",
      "Estimating biases using als...\n",
      "Estimating biases using als...\n",
      "Estimating biases using als...\n",
      "Estimating biases using als...\n",
      "Estimating biases using als...\n",
      "Estimating biases using als...\n",
      "Estimating biases using als...\n",
      "Estimating biases using als...\n",
      "Estimating biases using als...\n",
      "Estimating biases using als...\n",
      "Estimating biases using als...\n",
      "Estimating biases using als...\n",
      "Estimating biases using als...\n",
      "Estimating biases using als...\n",
      "Estimating biases using als...\n",
      "Estimating biases using als...\n",
      "Estimating biases using als...\n",
      "Estimating biases using als...\n",
      "Estimating biases using als...\n",
      "Estimating biases using als...\n",
      "Estimating biases using als...\n",
      "Estimating biases using als...\n",
      "Estimating biases using als...\n",
      "Estimating biases using als...\n",
      "Estimating biases using als...\n",
      "Estimating biases using als...\n",
      "Estimating biases using als...\n",
      "Estimating biases using als...\n",
      "Estimating biases using als...\n",
      "Estimating biases using als...\n",
      "Estimating biases using als...\n",
      "Estimating biases using als...\n",
      "Estimating biases using als...\n",
      "Estimating biases using als...\n",
      "Estimating biases using als...\n",
      "Estimating biases using als...\n",
      "Estimating biases using als...\n",
      "Estimating biases using als...\n",
      "Estimating biases using als...\n",
      "Estimating biases using als...\n",
      "Estimating biases using als...\n",
      "Estimating biases using als...\n",
      "Estimating biases using als...\n",
      "Estimating biases using als...\n",
      "Estimating biases using als...\n",
      "Estimating biases using als...\n",
      "Estimating biases using als...\n",
      "Estimating biases using als...\n",
      "Estimating biases using als...\n",
      "Estimating biases using als...\n",
      "Estimating biases using als...\n",
      "Estimating biases using als...\n",
      "Estimating biases using als...\n",
      "Estimating biases using als...\n",
      "Estimating biases using als...\n",
      "Estimating biases using als...\n",
      "Estimating biases using als...\n",
      "Estimating biases using als...\n",
      "Estimating biases using als...\n",
      "Estimating biases using als...\n",
      "Estimating biases using als...\n",
      "Estimating biases using als...\n",
      "Estimating biases using als...\n",
      "Estimating biases using als...\n",
      "Estimating biases using als...\n",
      "Estimating biases using als...\n",
      "Estimating biases using als...\n",
      "Estimating biases using als...\n",
      "Estimating biases using als...\n",
      "Estimating biases using als...\n",
      "Estimating biases using als...\n",
      "Estimating biases using als...\n",
      "Estimating biases using als...\n",
      "Estimating biases using als...\n",
      "Estimating biases using als...\n",
      "Estimating biases using als...\n",
      "Estimating biases using als...\n",
      "Estimating biases using als...\n",
      "Estimating biases using als...\n",
      "Estimating biases using als...\n",
      "Estimating biases using als...\n",
      "Estimating biases using als...\n",
      "Estimating biases using als...\n",
      "Estimating biases using als...\n",
      "Estimating biases using als...\n",
      "Estimating biases using als...\n",
      "Estimating biases using als...\n",
      "Estimating biases using als...\n",
      "Estimating biases using als...\n",
      "Estimating biases using als...\n",
      "Estimating biases using als...\n",
      "Estimating biases using als...\n",
      "Estimating biases using als...\n",
      "Estimating biases using als...\n",
      "Estimating biases using als...\n",
      "Estimating biases using als...\n",
      "Estimating biases using als...\n",
      "Estimating biases using als...\n",
      "Estimating biases using als...\n",
      "Estimating biases using als...\n",
      "Estimating biases using als...\n",
      "Estimating biases using als...\n",
      "Estimating biases using als...\n",
      "Estimating biases using als...\n",
      "Estimating biases using als...\n",
      "Estimating biases using als...\n",
      "Estimating biases using als...\n",
      "Estimating biases using als...\n",
      "Estimating biases using als...\n",
      "Estimating biases using als...\n",
      "Estimating biases using als...\n",
      "Estimating biases using als...\n",
      "Estimating biases using als...\n",
      "Estimating biases using als...\n",
      "Estimating biases using als...\n",
      "Estimating biases using als...\n",
      "Estimating biases using als...\n",
      "Estimating biases using als...\n",
      "Estimating biases using als...\n",
      "Estimating biases using als...\n",
      "Estimating biases using als...\n",
      "Estimating biases using als...\n",
      "Estimating biases using als...\n",
      "Estimating biases using als...\n",
      "Estimating biases using als...\n",
      "Estimating biases using als...\n",
      "Estimating biases using als...\n",
      "Estimating biases using als...\n",
      "Estimating biases using als...\n",
      "Estimating biases using als...\n",
      "Estimating biases using als...\n",
      "Estimating biases using als...\n",
      "Estimating biases using als...\n",
      "Estimating biases using als...\n",
      "Estimating biases using als...\n",
      "Estimating biases using als...\n",
      "Estimating biases using als...\n",
      "Estimating biases using als...\n",
      "Estimating biases using als...\n",
      "Estimating biases using als...\n",
      "Estimating biases using als...\n",
      "Estimating biases using als...\n",
      "Estimating biases using als...\n",
      "Estimating biases using als...\n",
      "Estimating biases using als...\n",
      "Estimating biases using als...\n",
      "Estimating biases using als...\n",
      "Estimating biases using als...\n",
      "Estimating biases using als...\n",
      "Estimating biases using als...\n",
      "Estimating biases using als...\n",
      "Estimating biases using als...\n",
      "Estimating biases using als...\n",
      "Estimating biases using als...\n",
      "Estimating biases using als...\n",
      "Estimating biases using als...\n",
      "Estimating biases using als...\n",
      "Estimating biases using als...\n",
      "Estimating biases using als...\n",
      "Estimating biases using als...\n",
      "Estimating biases using als...\n",
      "Estimating biases using als...\n",
      "Estimating biases using als...\n",
      "Estimating biases using als...\n",
      "Estimating biases using als...\n",
      "Estimating biases using als...\n",
      "Estimating biases using als...\n",
      "Estimating biases using als...\n",
      "Estimating biases using als...\n",
      "Estimating biases using als...\n",
      "Estimating biases using als...\n",
      "Estimating biases using als...\n",
      "Estimating biases using als...\n"
     ]
    }
   ],
   "source": [
    "bsl_options_scores = {}\n",
    "\n",
    "for bsl_perm in params:\n",
    "    bsl_options = {'method': 'als',\n",
    "               'n_epochs': bsl_perm[0],\n",
    "               'reg_u': bsl_perm[1],\n",
    "               'reg_i': bsl_perm[2]\n",
    "               }\n",
    "    \n",
    "    algo = baseline_only.BaselineOnly(bsl_options=bsl_options)\n",
    "    a = cross_validate(algo, data, measures=['RMSE'], cv=3, verbose=False, return_train_measures=True);\n",
    "    \n",
    "    bsl_perm_2 = (str(bsl_perm[0]) + ' ' + str(bsl_perm[1]) + ' ' + str(bsl_perm[2]))\n",
    "    bsl_options_scores[bsl_perm_2] = {'mean_train_rmse': a['train_rmse'].mean(),'mean_test_rmse': a['test_rmse'].mean()}\n",
    "    \n",
    "    #print('\\n',bsl_options,'\\n','\\n')"
   ]
  },
  {
   "cell_type": "code",
   "execution_count": 159,
   "metadata": {},
   "outputs": [
    {
     "data": {
      "text/plain": [
       "[['20 5 3',\n",
       "  {'mean_train_rmse': 0.7983048644515612,\n",
       "   'mean_test_rmse': 0.8784033236048562}],\n",
       " ['10 5 3',\n",
       "  {'mean_train_rmse': 0.7983734473147335,\n",
       "   'mean_test_rmse': 0.8783836417570324}],\n",
       " ['3 5 3',\n",
       "  {'mean_train_rmse': 0.7984685033007621,\n",
       "   'mean_test_rmse': 0.8802380326455594}],\n",
       " ['5 5 3',\n",
       "  {'mean_train_rmse': 0.7985673956707448,\n",
       "   'mean_test_rmse': 0.8782472912461059}],\n",
       " ['10 10 3',\n",
       "  {'mean_train_rmse': 0.8004355360515488,\n",
       "   'mean_test_rmse': 0.8783415462321851}]]"
      ]
     },
     "execution_count": 159,
     "metadata": {},
     "output_type": "execute_result"
    }
   ],
   "source": [
    "sorted([[k, v] for k, v in bsl_options_scores.items()], key = lambda x: x[1]['mean_train_rmse'])[:5]"
   ]
  },
  {
   "cell_type": "code",
   "execution_count": 52,
   "metadata": {},
   "outputs": [
    {
     "name": "stdout",
     "output_type": "stream",
     "text": [
      "Using ALS\n",
      "Estimating biases using als...\n",
      "Estimating biases using als...\n",
      "Estimating biases using als...\n",
      "Evaluating RMSE of algorithm BaselineOnly on 3 split(s).\n",
      "\n",
      "                  Fold 1  Fold 2  Fold 3  Mean    Std     \n",
      "RMSE (testset)    0.8744  0.8784  0.8778  0.8768  0.0018  \n",
      "RMSE (trainset)   0.8021  0.8002  0.8004  0.8009  0.0009  \n",
      "Fit time          0.20    0.22    0.23    0.22    0.01    \n",
      "Test time         0.12    0.15    0.42    0.23    0.13    \n"
     ]
    }
   ],
   "source": [
    "print('Using ALS')\n",
    "bsl_options = {'method': 'als',\n",
    "               'n_epochs': 10,\n",
    "               'reg_u': 10,\n",
    "               'reg_i': 3\n",
    "               }\n",
    "ALS_algo = baseline_only.BaselineOnly(bsl_options=bsl_options)\n",
    "ALS_cv = cross_validate(ALS_algo, data, measures=['RMSE'], cv=3, verbose=True, return_train_measures=True)"
   ]
  },
  {
   "cell_type": "markdown",
   "metadata": {},
   "source": [
    "### 8th Model: SVD (with hyperparameter tuning)"
   ]
  },
  {
   "cell_type": "code",
   "execution_count": 41,
   "metadata": {},
   "outputs": [],
   "source": [
    "param_grid = {'n_factors':[10, 20, 100],'n_epochs': [5, 10, 20], 'lr_all': [0.002, 0.005, 0.01],\n",
    "              'reg_all': [0.2, 0.4, 0.5, 0.6]}\n",
    "grid_search = GridSearchCV(SVD, param_grid, measures=['rmse'], cv=3, n_jobs = -1, return_train_measures = True)"
   ]
  },
  {
   "cell_type": "code",
   "execution_count": 42,
   "metadata": {},
   "outputs": [
    {
     "name": "stdout",
     "output_type": "stream",
     "text": [
      "Grid Search...\n",
      "--- 879.0903270244598 seconds to fit ---\n"
     ]
    },
    {
     "data": {
      "text/plain": [
       "{'rmse': {'n_factors': 100, 'n_epochs': 20, 'lr_all': 0.01, 'reg_all': 0.2}}"
      ]
     },
     "execution_count": 42,
     "metadata": {},
     "output_type": "execute_result"
    }
   ],
   "source": [
    "start_time = time.time()\n",
    "\n",
    "print('Grid Search...')\n",
    "grid_search.fit(data)\n",
    "\n",
    "print(\"--- %s seconds to fit ---\" % (time.time() - start_time))\n",
    "\n",
    "grid_search.best_params"
   ]
  },
  {
   "cell_type": "code",
   "execution_count": 43,
   "metadata": {},
   "outputs": [
    {
     "name": "stdout",
     "output_type": "stream",
     "text": [
      "mean train RMSE 0.8679041395727843\n",
      "mean test RMSE 0.9087440674914284\n"
     ]
    }
   ],
   "source": [
    "print('mean train RMSE', grid_search.cv_results['mean_train_rmse'].mean())\n",
    "print('mean test RMSE', grid_search.cv_results['mean_test_rmse'].mean())"
   ]
  },
  {
   "cell_type": "markdown",
   "metadata": {},
   "source": [
    "**<font color=black>-----------------------------------------------------------------------------------------------------------------------------------------------------------------------------<font>**"
   ]
  },
  {
   "cell_type": "markdown",
   "metadata": {},
   "source": [
    "### Model Performance Comparison"
   ]
  },
  {
   "cell_type": "code",
   "execution_count": 56,
   "metadata": {},
   "outputs": [],
   "source": [
    "fitted_models = [simcos_cv_user, simcos_cv_item, ALS_cv]\n",
    "\n",
    "train_RMSEs = [x['train_rmse'].mean() for x in fitted_models] + [grid_search.cv_results['mean_train_rmse'].mean()]\n",
    "\n",
    "test_RMSEs = [x['test_rmse'].mean() for x in fitted_models] + [grid_search.cv_results['mean_test_rmse'].mean()]"
   ]
  },
  {
   "cell_type": "code",
   "execution_count": 427,
   "metadata": {},
   "outputs": [
    {
     "data": {
      "image/png": "[encoded data removed]",
      "text/plain": [
       "<Figure size 1080x432 with 1 Axes>"
      ]
     },
     "metadata": {
      "needs_background": "light"
     },
     "output_type": "display_data"
    }
   ],
   "source": [
    "fitted_models_names = ['cos_user', 'cos_item', 'ALS', 'SVD']\n",
    "\n",
    "fig2, ax = plt.subplots(figsize = (15,6))\n",
    "ax.fill_between(np.linspace(-1, 1.5, 1000), 2, alpha = 0.3, color = 'lavender')\n",
    "ax.fill_between(np.linspace(1.5, 4, 1000), 2, alpha = 0.3, color = 'moccasin')\n",
    "ax.bar(fitted_models_names, test_RMSEs, label = 'Test RMSE', color = 'darkgray')\n",
    "ax.bar(fitted_models_names, train_RMSEs, label = 'Train RMSE', color = 'lightcoral')\n",
    "ax.legend(loc = 3, fontsize = 15)\n",
    "ax.annotate('Memory Based Methods', # this is the text\n",
    "                (0.5,0.2), # this is the point to label\n",
    "                textcoords=\"offset points\", # how to position the text\n",
    "                xytext=(0,0), # distance from text to points (x,y)\n",
    "                ha='center',\n",
    "                fontsize = 20,\n",
    "                color = 'black')\n",
    "ax.annotate('Model Based Methods', # this is the text\n",
    "                (2.5,0.2), # this is the point to label\n",
    "                textcoords=\"offset points\", # how to position the text\n",
    "                xytext=(0,0), # distance from text to points (x,y)\n",
    "                ha='center',\n",
    "                fontsize = 20,\n",
    "                color = 'black')\n",
    "ax.annotate('Best Performer', # this is the text\n",
    "                (2.0,0.97), # this is the point to label\n",
    "                textcoords=\"offset points\", # how to position the text\n",
    "                xytext=(0,0), # distance from text to points (x,y)\n",
    "                ha='center',\n",
    "                fontsize = 20,\n",
    "                color = 'maroon')\n",
    "#ax.axvline(2.0, 0.85, 0.9, color = 'darkblue')\n",
    "ax.arrow(2.0, 0.95, 0, -0.03, width = 0.03, head_width=0.06, head_length=0.07, color = 'maroon')\n",
    "ax.set_xlabel('Model', fontsize = 20)\n",
    "ax.set_ylabel('RMSE', fontsize = 20)\n",
    "ax.set_xticklabels(fitted_models_names, fontsize = 20)\n",
    "ax.axvline(1.5, 0, 1.0, color = 'grey')\n",
    "ax.set_title('Model Comparison (RMSE)', fontsize = 25);"
   ]
  },
  {
   "cell_type": "markdown",
   "metadata": {},
   "source": [
    "<font size=\"4\">Based on the RMSE scores the model based methods performed better than the memory based methods. <br>\n",
    "The winning model overall the ALS model returning a mean train RMSE of 0.8 and a mean test RMSE of 0.88.<font> "
   ]
  },
  {
   "cell_type": "code",
   "execution_count": 44,
   "metadata": {},
   "outputs": [
    {
     "data": {
      "text/plain": [
       "{'method': 'als', 'n_epochs': 10, 'reg_u': 10, 'reg_i': 3}"
      ]
     },
     "execution_count": 44,
     "metadata": {},
     "output_type": "execute_result"
    }
   ],
   "source": [
    "ALS_algo.bsl_options"
   ]
  },
  {
   "cell_type": "code",
   "execution_count": 77,
   "metadata": {},
   "outputs": [],
   "source": [
    "#  convert 'data' into a trainset format that is compatible with Surprise modelling\n",
    "trainset = data.build_full_trainset()"
   ]
  },
  {
   "cell_type": "code",
   "execution_count": 79,
   "metadata": {},
   "outputs": [
    {
     "name": "stdout",
     "output_type": "stream",
     "text": [
      "Estimating biases using als...\n"
     ]
    },
    {
     "data": {
      "text/plain": [
       "<surprise.prediction_algorithms.baseline_only.BaselineOnly at 0x1254ae2d0>"
      ]
     },
     "execution_count": 79,
     "metadata": {},
     "output_type": "execute_result"
    }
   ],
   "source": [
    "ALS_algo.fit(trainset)"
   ]
  },
  {
   "cell_type": "code",
   "execution_count": 80,
   "metadata": {},
   "outputs": [
    {
     "name": "stdout",
     "output_type": "stream",
     "text": [
      "Unbiased accuracy on validation set, RMSE: 0.8641\n"
     ]
    },
    {
     "data": {
      "text/plain": [
       "0.8640880468612688"
      ]
     },
     "execution_count": 80,
     "metadata": {},
     "output_type": "execute_result"
    }
   ],
   "source": [
    "valset = data.construct_testset(val_raw_ratings)\n",
    "predictions = ALS_algo.test(valset)\n",
    "print('Unbiased accuracy on validation set,', end=' ')\n",
    "accuracy.rmse(predictions)"
   ]
  },
  {
   "cell_type": "markdown",
   "metadata": {},
   "source": [
    "**Not a brilliant model.... the model had an RMSE of about 0.86 on the validation set, meaning that it was off by nearly 1 whole point for each guess it made for ratings.<br>\n",
    "But the best model we have**"
   ]
  },
  {
   "cell_type": "markdown",
   "metadata": {},
   "source": [
    "**<font color=black>-----------------------------------------------------------------------------------------------------------------------------------------------------------------------------<font>**"
   ]
  },
  {
   "cell_type": "markdown",
   "metadata": {},
   "source": [
    "### Test chosen collaborative model and make predictions:"
   ]
  },
  {
   "cell_type": "code",
   "execution_count": 84,
   "metadata": {},
   "outputs": [
    {
     "data": {
      "text/html": [
       "<div>\n",
       "<style scoped>\n",
       "    .dataframe tbody tr th:only-of-type {\n",
       "        vertical-align: middle;\n",
       "    }\n",
       "\n",
       "    .dataframe tbody tr th {\n",
       "        vertical-align: top;\n",
       "    }\n",
       "\n",
       "    .dataframe thead th {\n",
       "        text-align: right;\n",
       "    }\n",
       "</style>\n",
       "<table border=\"1\" class=\"dataframe\">\n",
       "  <thead>\n",
       "    <tr style=\"text-align: right;\">\n",
       "      <th></th>\n",
       "      <th>userId</th>\n",
       "      <th>movieId</th>\n",
       "      <th>rating</th>\n",
       "    </tr>\n",
       "  </thead>\n",
       "  <tbody>\n",
       "    <tr>\n",
       "      <td>0</td>\n",
       "      <td>1</td>\n",
       "      <td>1</td>\n",
       "      <td>4.0</td>\n",
       "    </tr>\n",
       "    <tr>\n",
       "      <td>1</td>\n",
       "      <td>1</td>\n",
       "      <td>3</td>\n",
       "      <td>4.0</td>\n",
       "    </tr>\n",
       "    <tr>\n",
       "      <td>2</td>\n",
       "      <td>1</td>\n",
       "      <td>6</td>\n",
       "      <td>4.0</td>\n",
       "    </tr>\n",
       "    <tr>\n",
       "      <td>3</td>\n",
       "      <td>1</td>\n",
       "      <td>47</td>\n",
       "      <td>5.0</td>\n",
       "    </tr>\n",
       "    <tr>\n",
       "      <td>4</td>\n",
       "      <td>1</td>\n",
       "      <td>50</td>\n",
       "      <td>5.0</td>\n",
       "    </tr>\n",
       "    <tr>\n",
       "      <td>5</td>\n",
       "      <td>1</td>\n",
       "      <td>70</td>\n",
       "      <td>3.0</td>\n",
       "    </tr>\n",
       "    <tr>\n",
       "      <td>6</td>\n",
       "      <td>1</td>\n",
       "      <td>101</td>\n",
       "      <td>5.0</td>\n",
       "    </tr>\n",
       "    <tr>\n",
       "      <td>7</td>\n",
       "      <td>1</td>\n",
       "      <td>110</td>\n",
       "      <td>4.0</td>\n",
       "    </tr>\n",
       "    <tr>\n",
       "      <td>8</td>\n",
       "      <td>1</td>\n",
       "      <td>151</td>\n",
       "      <td>5.0</td>\n",
       "    </tr>\n",
       "    <tr>\n",
       "      <td>9</td>\n",
       "      <td>1</td>\n",
       "      <td>157</td>\n",
       "      <td>5.0</td>\n",
       "    </tr>\n",
       "  </tbody>\n",
       "</table>\n",
       "</div>"
      ],
      "text/plain": [
       "   userId  movieId  rating\n",
       "0       1        1     4.0\n",
       "1       1        3     4.0\n",
       "2       1        6     4.0\n",
       "3       1       47     5.0\n",
       "4       1       50     5.0\n",
       "5       1       70     3.0\n",
       "6       1      101     5.0\n",
       "7       1      110     4.0\n",
       "8       1      151     5.0\n",
       "9       1      157     5.0"
      ]
     },
     "execution_count": 84,
     "metadata": {},
     "output_type": "execute_result"
    }
   ],
   "source": [
    "#  use the first 10 sa,mples from the ratings table as the comparison\n",
    "ratings_clean[:10]"
   ]
  },
  {
   "cell_type": "code",
   "execution_count": 147,
   "metadata": {},
   "outputs": [
    {
     "name": "stdout",
     "output_type": "stream",
     "text": [
      "1 1 4.68\n",
      "1 3 4.07\n",
      "1 6 4.71\n",
      "1 47 4.77\n",
      "1 50 5.0\n",
      "1 70 4.41\n",
      "1 101 4.61\n",
      "1 110 4.79\n",
      "1 151 4.26\n",
      "1 157 3.87\n"
     ]
    }
   ],
   "source": [
    "#  using the chosen ALS model predict the first 10 samples above\n",
    "for i in range(10):\n",
    "    print(ratings_clean.userId[i], ratings_clean.movieId[i],\n",
    "          round(ALS_algo.predict(uid = ratings_clean.userId[i], iid = ratings_clean.movieId[i])[3],2))"
   ]
  },
  {
   "cell_type": "markdown",
   "metadata": {},
   "source": [
    "**The hit or miss effect of a model with an RMSE of 0.88 is exhibited above. <br>\n",
    "Some predictions are close and others aren't and the ones that aren't are approximately 1 point out.**"
   ]
  },
  {
   "cell_type": "markdown",
   "metadata": {},
   "source": [
    "**<font color=black>-----------------------------------------------------------------------------------------------------------------------------------------------------------------------------<font>**"
   ]
  },
  {
   "cell_type": "code",
   "execution_count": 87,
   "metadata": {},
   "outputs": [],
   "source": [
    "ratings_clean_copy = ratings_clean.copy()"
   ]
  },
  {
   "cell_type": "code",
   "execution_count": 112,
   "metadata": {},
   "outputs": [],
   "source": [
    "ratings_count = pd.DataFrame(ratings_clean_copy.groupby('movieId').count() \\\n",
    "                             ['rating']).reset_index().rename(columns={\"rating\": \"ratings_count\"})"
   ]
  },
  {
   "cell_type": "code",
   "execution_count": 128,
   "metadata": {},
   "outputs": [],
   "source": [
    "ratings_count['ratings_count_rank'] = ratings_count['ratings_count'].rank(method = 'max', ascending = False)"
   ]
  },
  {
   "cell_type": "code",
   "execution_count": 132,
   "metadata": {},
   "outputs": [
    {
     "data": {
      "text/html": [
       "<div>\n",
       "<style scoped>\n",
       "    .dataframe tbody tr th:only-of-type {\n",
       "        vertical-align: middle;\n",
       "    }\n",
       "\n",
       "    .dataframe tbody tr th {\n",
       "        vertical-align: top;\n",
       "    }\n",
       "\n",
       "    .dataframe thead th {\n",
       "        text-align: right;\n",
       "    }\n",
       "</style>\n",
       "<table border=\"1\" class=\"dataframe\">\n",
       "  <thead>\n",
       "    <tr style=\"text-align: right;\">\n",
       "      <th></th>\n",
       "      <th>movieId</th>\n",
       "      <th>ratings_count</th>\n",
       "      <th>ratings_count_rank</th>\n",
       "    </tr>\n",
       "  </thead>\n",
       "  <tbody>\n",
       "    <tr>\n",
       "      <td>314</td>\n",
       "      <td>356</td>\n",
       "      <td>329</td>\n",
       "      <td>1.0</td>\n",
       "    </tr>\n",
       "    <tr>\n",
       "      <td>277</td>\n",
       "      <td>318</td>\n",
       "      <td>317</td>\n",
       "      <td>2.0</td>\n",
       "    </tr>\n",
       "    <tr>\n",
       "      <td>257</td>\n",
       "      <td>296</td>\n",
       "      <td>307</td>\n",
       "      <td>3.0</td>\n",
       "    </tr>\n",
       "    <tr>\n",
       "      <td>510</td>\n",
       "      <td>593</td>\n",
       "      <td>279</td>\n",
       "      <td>4.0</td>\n",
       "    </tr>\n",
       "    <tr>\n",
       "      <td>1938</td>\n",
       "      <td>2571</td>\n",
       "      <td>278</td>\n",
       "      <td>5.0</td>\n",
       "    </tr>\n",
       "  </tbody>\n",
       "</table>\n",
       "</div>"
      ],
      "text/plain": [
       "      movieId  ratings_count  ratings_count_rank\n",
       "314       356            329                 1.0\n",
       "277       318            317                 2.0\n",
       "257       296            307                 3.0\n",
       "510       593            279                 4.0\n",
       "1938     2571            278                 5.0"
      ]
     },
     "execution_count": 132,
     "metadata": {},
     "output_type": "execute_result"
    }
   ],
   "source": [
    "ratings_count.sort_values(by = ['ratings_count'], ascending = False).head()"
   ]
  },
  {
   "cell_type": "code",
   "execution_count": 130,
   "metadata": {},
   "outputs": [
    {
     "data": {
      "text/html": [
       "<div>\n",
       "<style scoped>\n",
       "    .dataframe tbody tr th:only-of-type {\n",
       "        vertical-align: middle;\n",
       "    }\n",
       "\n",
       "    .dataframe tbody tr th {\n",
       "        vertical-align: top;\n",
       "    }\n",
       "\n",
       "    .dataframe thead th {\n",
       "        text-align: right;\n",
       "    }\n",
       "</style>\n",
       "<table border=\"1\" class=\"dataframe\">\n",
       "  <thead>\n",
       "    <tr style=\"text-align: right;\">\n",
       "      <th></th>\n",
       "      <th>movieId</th>\n",
       "      <th>ratings_count</th>\n",
       "      <th>ratings_count_rank</th>\n",
       "    </tr>\n",
       "  </thead>\n",
       "  <tbody>\n",
       "    <tr>\n",
       "      <td>9719</td>\n",
       "      <td>193581</td>\n",
       "      <td>1</td>\n",
       "      <td>9724.0</td>\n",
       "    </tr>\n",
       "    <tr>\n",
       "      <td>9720</td>\n",
       "      <td>193583</td>\n",
       "      <td>1</td>\n",
       "      <td>9724.0</td>\n",
       "    </tr>\n",
       "    <tr>\n",
       "      <td>9721</td>\n",
       "      <td>193585</td>\n",
       "      <td>1</td>\n",
       "      <td>9724.0</td>\n",
       "    </tr>\n",
       "    <tr>\n",
       "      <td>9722</td>\n",
       "      <td>193587</td>\n",
       "      <td>1</td>\n",
       "      <td>9724.0</td>\n",
       "    </tr>\n",
       "    <tr>\n",
       "      <td>9723</td>\n",
       "      <td>193609</td>\n",
       "      <td>1</td>\n",
       "      <td>9724.0</td>\n",
       "    </tr>\n",
       "  </tbody>\n",
       "</table>\n",
       "</div>"
      ],
      "text/plain": [
       "      movieId  ratings_count  ratings_count_rank\n",
       "9719   193581              1              9724.0\n",
       "9720   193583              1              9724.0\n",
       "9721   193585              1              9724.0\n",
       "9722   193587              1              9724.0\n",
       "9723   193609              1              9724.0"
      ]
     },
     "execution_count": 130,
     "metadata": {},
     "output_type": "execute_result"
    }
   ],
   "source": [
    "ratings_count.tail()"
   ]
  },
  {
   "cell_type": "code",
   "execution_count": 150,
   "metadata": {},
   "outputs": [],
   "source": [
    "user_7_already_rated = ratings_clean_copy[ratings_clean_copy.userId == 9]['movieId'].unique()\n",
    "user_7_not_rated = [x for x in movies['movieId'] if x not in user_7_already_rated]"
   ]
  },
  {
   "cell_type": "code",
   "execution_count": 151,
   "metadata": {},
   "outputs": [],
   "source": [
    "movies_rated_by_highrating_7 = ratings_clean_copy.loc[(ratings['movieId'].isin(user_7_already_rated)) & \\\n",
    "                                            (ratings_clean_copy['userId'] == 9)].sort_values(by=['rating'], \\\n",
    "                                                                                   ascending = False)"
   ]
  },
  {
   "cell_type": "code",
   "execution_count": 152,
   "metadata": {},
   "outputs": [
    {
     "data": {
      "text/html": [
       "<div>\n",
       "<style scoped>\n",
       "    .dataframe tbody tr th:only-of-type {\n",
       "        vertical-align: middle;\n",
       "    }\n",
       "\n",
       "    .dataframe tbody tr th {\n",
       "        vertical-align: top;\n",
       "    }\n",
       "\n",
       "    .dataframe thead th {\n",
       "        text-align: right;\n",
       "    }\n",
       "</style>\n",
       "<table border=\"1\" class=\"dataframe\">\n",
       "  <thead>\n",
       "    <tr style=\"text-align: right;\">\n",
       "      <th></th>\n",
       "      <th>userId</th>\n",
       "      <th>movieId</th>\n",
       "      <th>rating</th>\n",
       "      <th>title</th>\n",
       "      <th>genres</th>\n",
       "      <th>ratings_count_rank</th>\n",
       "    </tr>\n",
       "  </thead>\n",
       "  <tbody>\n",
       "    <tr>\n",
       "      <td>0</td>\n",
       "      <td>9</td>\n",
       "      <td>5902</td>\n",
       "      <td>5.0</td>\n",
       "      <td>Adaptation (2002)</td>\n",
       "      <td>Comedy|Drama|Romance</td>\n",
       "      <td>507.0</td>\n",
       "    </tr>\n",
       "    <tr>\n",
       "      <td>1</td>\n",
       "      <td>9</td>\n",
       "      <td>1198</td>\n",
       "      <td>5.0</td>\n",
       "      <td>Raiders of the Lost Ark (Indiana Jones and the...</td>\n",
       "      <td>Action|Adventure</td>\n",
       "      <td>19.0</td>\n",
       "    </tr>\n",
       "    <tr>\n",
       "      <td>2</td>\n",
       "      <td>9</td>\n",
       "      <td>5952</td>\n",
       "      <td>5.0</td>\n",
       "      <td>Lord of the Rings: The Two Towers, The (2002)</td>\n",
       "      <td>Adventure|Fantasy</td>\n",
       "      <td>26.0</td>\n",
       "    </tr>\n",
       "    <tr>\n",
       "      <td>3</td>\n",
       "      <td>9</td>\n",
       "      <td>2300</td>\n",
       "      <td>5.0</td>\n",
       "      <td>Producers, The (1968)</td>\n",
       "      <td>Comedy</td>\n",
       "      <td>806.0</td>\n",
       "    </tr>\n",
       "    <tr>\n",
       "      <td>4</td>\n",
       "      <td>9</td>\n",
       "      <td>5481</td>\n",
       "      <td>5.0</td>\n",
       "      <td>Austin Powers in Goldmember (2002)</td>\n",
       "      <td>Comedy</td>\n",
       "      <td>292.0</td>\n",
       "    </tr>\n",
       "    <tr>\n",
       "      <td>5</td>\n",
       "      <td>9</td>\n",
       "      <td>1270</td>\n",
       "      <td>5.0</td>\n",
       "      <td>Back to the Future (1985)</td>\n",
       "      <td>Adventure|Comedy|Sci-Fi</td>\n",
       "      <td>35.0</td>\n",
       "    </tr>\n",
       "    <tr>\n",
       "      <td>6</td>\n",
       "      <td>9</td>\n",
       "      <td>4993</td>\n",
       "      <td>5.0</td>\n",
       "      <td>Lord of the Rings: The Fellowship of the Ring,...</td>\n",
       "      <td>Adventure|Fantasy</td>\n",
       "      <td>20.0</td>\n",
       "    </tr>\n",
       "    <tr>\n",
       "      <td>7</td>\n",
       "      <td>9</td>\n",
       "      <td>923</td>\n",
       "      <td>5.0</td>\n",
       "      <td>Citizen Kane (1941)</td>\n",
       "      <td>Drama|Mystery</td>\n",
       "      <td>264.0</td>\n",
       "    </tr>\n",
       "    <tr>\n",
       "      <td>8</td>\n",
       "      <td>9</td>\n",
       "      <td>6001</td>\n",
       "      <td>4.0</td>\n",
       "      <td>King of Comedy, The (1983)</td>\n",
       "      <td>Comedy|Drama</td>\n",
       "      <td>2949.0</td>\n",
       "    </tr>\n",
       "    <tr>\n",
       "      <td>9</td>\n",
       "      <td>9</td>\n",
       "      <td>922</td>\n",
       "      <td>4.0</td>\n",
       "      <td>Sunset Blvd. (a.k.a. Sunset Boulevard) (1950)</td>\n",
       "      <td>Drama|Film-Noir|Romance</td>\n",
       "      <td>976.0</td>\n",
       "    </tr>\n",
       "  </tbody>\n",
       "</table>\n",
       "</div>"
      ],
      "text/plain": [
       "   userId  movieId  rating                                              title  \\\n",
       "0       9     5902     5.0                                  Adaptation (2002)   \n",
       "1       9     1198     5.0  Raiders of the Lost Ark (Indiana Jones and the...   \n",
       "2       9     5952     5.0      Lord of the Rings: The Two Towers, The (2002)   \n",
       "3       9     2300     5.0                              Producers, The (1968)   \n",
       "4       9     5481     5.0                 Austin Powers in Goldmember (2002)   \n",
       "5       9     1270     5.0                          Back to the Future (1985)   \n",
       "6       9     4993     5.0  Lord of the Rings: The Fellowship of the Ring,...   \n",
       "7       9      923     5.0                                Citizen Kane (1941)   \n",
       "8       9     6001     4.0                         King of Comedy, The (1983)   \n",
       "9       9      922     4.0      Sunset Blvd. (a.k.a. Sunset Boulevard) (1950)   \n",
       "\n",
       "                    genres  ratings_count_rank  \n",
       "0     Comedy|Drama|Romance               507.0  \n",
       "1         Action|Adventure                19.0  \n",
       "2        Adventure|Fantasy                26.0  \n",
       "3                   Comedy               806.0  \n",
       "4                   Comedy               292.0  \n",
       "5  Adventure|Comedy|Sci-Fi                35.0  \n",
       "6        Adventure|Fantasy                20.0  \n",
       "7            Drama|Mystery               264.0  \n",
       "8             Comedy|Drama              2949.0  \n",
       "9  Drama|Film-Noir|Romance               976.0  "
      ]
     },
     "execution_count": 152,
     "metadata": {},
     "output_type": "execute_result"
    }
   ],
   "source": [
    "movies_rated_by_highrating_7[:10].merge(movies, how = 'left', \\\n",
    "                                         on = 'movieId').merge(ratings_count.loc[:,['movieId', 'ratings_count_rank']],\\\n",
    "                                                               how = 'left', on = 'movieId')"
   ]
  },
  {
   "cell_type": "code",
   "execution_count": 153,
   "metadata": {},
   "outputs": [],
   "source": [
    "ratings_sorted = []\n",
    "\n",
    "for m_id in user_7_not_rated:\n",
    "\n",
    "    user_prediction = ALS_algo.predict(9, m_id)\n",
    "\n",
    "    pred_rating = user_prediction[3]\n",
    "    pred_movie = movies.loc[movies['movieId'] == user_prediction[1], 'title'].iloc[0]\n",
    "    pred_movieId = movies.loc[movies['movieId'] == user_prediction[1], 'movieId'].iloc[0]\n",
    "    pred_movie_genre = movies.loc[movies['movieId'] == user_prediction[1], 'genres'].iloc[0]\n",
    "    ratings_sorted.append((pred_movieId, pred_movie, pred_movie_genre, pred_rating))\n",
    "    \n",
    "ratings_sorted.sort(key = lambda x: x[3], reverse = True)"
   ]
  },
  {
   "cell_type": "code",
   "execution_count": 154,
   "metadata": {},
   "outputs": [
    {
     "data": {
      "text/html": [
       "<div>\n",
       "<style scoped>\n",
       "    .dataframe tbody tr th:only-of-type {\n",
       "        vertical-align: middle;\n",
       "    }\n",
       "\n",
       "    .dataframe tbody tr th {\n",
       "        vertical-align: top;\n",
       "    }\n",
       "\n",
       "    .dataframe thead th {\n",
       "        text-align: right;\n",
       "    }\n",
       "</style>\n",
       "<table border=\"1\" class=\"dataframe\">\n",
       "  <thead>\n",
       "    <tr style=\"text-align: right;\">\n",
       "      <th></th>\n",
       "      <th>movieId</th>\n",
       "      <th>title</th>\n",
       "      <th>genre</th>\n",
       "      <th>predicted_rating</th>\n",
       "      <th>ratings_count_rank</th>\n",
       "    </tr>\n",
       "  </thead>\n",
       "  <tbody>\n",
       "    <tr>\n",
       "      <td>0</td>\n",
       "      <td>318</td>\n",
       "      <td>Shawshank Redemption, The (1994)</td>\n",
       "      <td>Crime|Drama</td>\n",
       "      <td>4.218056</td>\n",
       "      <td>2.0</td>\n",
       "    </tr>\n",
       "    <tr>\n",
       "      <td>1</td>\n",
       "      <td>750</td>\n",
       "      <td>Dr. Strangelove or: How I Learned to Stop Worr...</td>\n",
       "      <td>Comedy|War</td>\n",
       "      <td>4.185901</td>\n",
       "      <td>146.0</td>\n",
       "    </tr>\n",
       "    <tr>\n",
       "      <td>2</td>\n",
       "      <td>1235</td>\n",
       "      <td>Harold and Maude (1971)</td>\n",
       "      <td>Comedy|Drama|Romance</td>\n",
       "      <td>4.183043</td>\n",
       "      <td>1012.0</td>\n",
       "    </tr>\n",
       "    <tr>\n",
       "      <td>3</td>\n",
       "      <td>1208</td>\n",
       "      <td>Apocalypse Now (1979)</td>\n",
       "      <td>Action|Drama|War</td>\n",
       "      <td>4.168120</td>\n",
       "      <td>116.0</td>\n",
       "    </tr>\n",
       "    <tr>\n",
       "      <td>4</td>\n",
       "      <td>1136</td>\n",
       "      <td>Monty Python and the Holy Grail (1975)</td>\n",
       "      <td>Adventure|Comedy|Fantasy</td>\n",
       "      <td>4.162496</td>\n",
       "      <td>61.0</td>\n",
       "    </tr>\n",
       "    <tr>\n",
       "      <td>5</td>\n",
       "      <td>1237</td>\n",
       "      <td>Seventh Seal, The (Sjunde inseglet, Det) (1957)</td>\n",
       "      <td>Drama</td>\n",
       "      <td>4.155643</td>\n",
       "      <td>1419.0</td>\n",
       "    </tr>\n",
       "    <tr>\n",
       "      <td>6</td>\n",
       "      <td>912</td>\n",
       "      <td>Casablanca (1942)</td>\n",
       "      <td>Drama|Romance</td>\n",
       "      <td>4.154677</td>\n",
       "      <td>138.0</td>\n",
       "    </tr>\n",
       "    <tr>\n",
       "      <td>7</td>\n",
       "      <td>1262</td>\n",
       "      <td>Great Escape, The (1963)</td>\n",
       "      <td>Action|Adventure|Drama|War</td>\n",
       "      <td>4.153472</td>\n",
       "      <td>573.0</td>\n",
       "    </tr>\n",
       "    <tr>\n",
       "      <td>8</td>\n",
       "      <td>1248</td>\n",
       "      <td>Touch of Evil (1958)</td>\n",
       "      <td>Crime|Film-Noir|Thriller</td>\n",
       "      <td>4.144827</td>\n",
       "      <td>1498.0</td>\n",
       "    </tr>\n",
       "    <tr>\n",
       "      <td>9</td>\n",
       "      <td>48516</td>\n",
       "      <td>Departed, The (2006)</td>\n",
       "      <td>Crime|Drama|Thriller</td>\n",
       "      <td>4.144812</td>\n",
       "      <td>116.0</td>\n",
       "    </tr>\n",
       "  </tbody>\n",
       "</table>\n",
       "</div>"
      ],
      "text/plain": [
       "   movieId                                              title  \\\n",
       "0      318                   Shawshank Redemption, The (1994)   \n",
       "1      750  Dr. Strangelove or: How I Learned to Stop Worr...   \n",
       "2     1235                            Harold and Maude (1971)   \n",
       "3     1208                              Apocalypse Now (1979)   \n",
       "4     1136             Monty Python and the Holy Grail (1975)   \n",
       "5     1237    Seventh Seal, The (Sjunde inseglet, Det) (1957)   \n",
       "6      912                                  Casablanca (1942)   \n",
       "7     1262                           Great Escape, The (1963)   \n",
       "8     1248                               Touch of Evil (1958)   \n",
       "9    48516                               Departed, The (2006)   \n",
       "\n",
       "                        genre  predicted_rating  ratings_count_rank  \n",
       "0                 Crime|Drama          4.218056                 2.0  \n",
       "1                  Comedy|War          4.185901               146.0  \n",
       "2        Comedy|Drama|Romance          4.183043              1012.0  \n",
       "3            Action|Drama|War          4.168120               116.0  \n",
       "4    Adventure|Comedy|Fantasy          4.162496                61.0  \n",
       "5                       Drama          4.155643              1419.0  \n",
       "6               Drama|Romance          4.154677               138.0  \n",
       "7  Action|Adventure|Drama|War          4.153472               573.0  \n",
       "8    Crime|Film-Noir|Thriller          4.144827              1498.0  \n",
       "9        Crime|Drama|Thriller          4.144812               116.0  "
      ]
     },
     "execution_count": 154,
     "metadata": {},
     "output_type": "execute_result"
    }
   ],
   "source": [
    "pd.DataFrame(ratings_sorted[:10], columns = ['movieId', 'title', 'genre', \\\n",
    "                                             'predicted_rating']).merge(ratings_count.loc[:,['movieId', \\\n",
    "                                                                                             'ratings_count_rank']],\\\n",
    "                                                               how = 'left', on = 'movieId')"
   ]
  },
  {
   "cell_type": "markdown",
   "metadata": {},
   "source": []
  },
  {
   "cell_type": "markdown",
   "metadata": {},
   "source": [
    "**<font color=black>-----------------------------------------------------------------------------------------------------------------------------------------------------------------------------<font>**"
   ]
  },
  {
   "cell_type": "markdown",
   "metadata": {},
   "source": [
    "## Content Based Model"
   ]
  },
  {
   "cell_type": "code",
   "execution_count": 294,
   "metadata": {},
   "outputs": [
    {
     "name": "stderr",
     "output_type": "stream",
     "text": [
      "/Users/flatiron/opt/anaconda3/lib/python3.7/importlib/_bootstrap.py:219: RuntimeWarning: numpy.ufunc size changed, may indicate binary incompatibility. Expected 192 from C header, got 216 from PyObject\n",
      "  return f(*args, **kwds)\n"
     ]
    }
   ],
   "source": [
    "import nltk\n",
    "from sklearn.feature_extraction.text import TfidfVectorizer\n",
    "from nltk.corpus import stopwords\n",
    "import string\n",
    "from nltk import word_tokenize, FreqDist\n",
    "import re\n",
    "from sklearn.decomposition import TruncatedSVD"
   ]
  },
  {
   "cell_type": "code",
   "execution_count": 255,
   "metadata": {},
   "outputs": [],
   "source": [
    "tags_2 = tags.loc[:, ['movieId', 'tag']]"
   ]
  },
  {
   "cell_type": "code",
   "execution_count": 256,
   "metadata": {},
   "outputs": [
    {
     "data": {
      "text/html": [
       "<div>\n",
       "<style scoped>\n",
       "    .dataframe tbody tr th:only-of-type {\n",
       "        vertical-align: middle;\n",
       "    }\n",
       "\n",
       "    .dataframe tbody tr th {\n",
       "        vertical-align: top;\n",
       "    }\n",
       "\n",
       "    .dataframe thead th {\n",
       "        text-align: right;\n",
       "    }\n",
       "</style>\n",
       "<table border=\"1\" class=\"dataframe\">\n",
       "  <thead>\n",
       "    <tr style=\"text-align: right;\">\n",
       "      <th></th>\n",
       "      <th>movieId</th>\n",
       "      <th>tag</th>\n",
       "    </tr>\n",
       "  </thead>\n",
       "  <tbody>\n",
       "    <tr>\n",
       "      <td>0</td>\n",
       "      <td>60756</td>\n",
       "      <td>funny</td>\n",
       "    </tr>\n",
       "    <tr>\n",
       "      <td>1</td>\n",
       "      <td>60756</td>\n",
       "      <td>Highly quotable</td>\n",
       "    </tr>\n",
       "    <tr>\n",
       "      <td>2</td>\n",
       "      <td>60756</td>\n",
       "      <td>will ferrell</td>\n",
       "    </tr>\n",
       "    <tr>\n",
       "      <td>3</td>\n",
       "      <td>89774</td>\n",
       "      <td>Boxing story</td>\n",
       "    </tr>\n",
       "    <tr>\n",
       "      <td>4</td>\n",
       "      <td>89774</td>\n",
       "      <td>MMA</td>\n",
       "    </tr>\n",
       "  </tbody>\n",
       "</table>\n",
       "</div>"
      ],
      "text/plain": [
       "   movieId              tag\n",
       "0    60756            funny\n",
       "1    60756  Highly quotable\n",
       "2    60756     will ferrell\n",
       "3    89774     Boxing story\n",
       "4    89774              MMA"
      ]
     },
     "execution_count": 256,
     "metadata": {},
     "output_type": "execute_result"
    }
   ],
   "source": [
    "tags_2.head()"
   ]
  },
  {
   "cell_type": "code",
   "execution_count": 257,
   "metadata": {},
   "outputs": [],
   "source": [
    "def find_year(string):\n",
    "    \n",
    "    # will extract the year of release from the movie title and convert to the decade of release\n",
    "    \n",
    "    pattern = '(\\(\\d{4}\\))'\n",
    "    p = re.compile(pattern)\n",
    "    digits = p.findall(string)\n",
    "    \n",
    "    if digits == []:\n",
    "        return ''\n",
    "    else:    \n",
    "        year = (int(''.join(digits).replace('(', '').replace(')', '')) // 10) * 10\n",
    "        return str(year)+'s'"
   ]
  },
  {
   "cell_type": "code",
   "execution_count": 258,
   "metadata": {},
   "outputs": [],
   "source": [
    "movies['decade'] = movies['title'].map(lambda x: find_year(x.strip()[-6:]))"
   ]
  },
  {
   "cell_type": "code",
   "execution_count": 259,
   "metadata": {},
   "outputs": [],
   "source": [
    "def check_year_in_title(string):\n",
    "    \n",
    "    # will extract the year of release from the movie title and convert to the decade of release\n",
    "    \n",
    "    pattern = '(\\(\\d{4}\\))'\n",
    "    p = re.compile(pattern)\n",
    "    digits = p.findall(string)\n",
    "    \n",
    "    if digits == []:\n",
    "        return ''\n",
    "    else:    \n",
    "        year = ''.join(digits)\n",
    "        return year"
   ]
  },
  {
   "cell_type": "code",
   "execution_count": 260,
   "metadata": {},
   "outputs": [],
   "source": [
    "movies['title_clean'] = movies['title'].apply(lambda x: x.replace(check_year_in_title(x.strip()), '').strip() \\\n",
    "                                              if check_year_in_title(x.strip()) != '' else x.strip())"
   ]
  },
  {
   "cell_type": "code",
   "execution_count": 261,
   "metadata": {},
   "outputs": [
    {
     "data": {
      "text/html": [
       "<div>\n",
       "<style scoped>\n",
       "    .dataframe tbody tr th:only-of-type {\n",
       "        vertical-align: middle;\n",
       "    }\n",
       "\n",
       "    .dataframe tbody tr th {\n",
       "        vertical-align: top;\n",
       "    }\n",
       "\n",
       "    .dataframe thead th {\n",
       "        text-align: right;\n",
       "    }\n",
       "</style>\n",
       "<table border=\"1\" class=\"dataframe\">\n",
       "  <thead>\n",
       "    <tr style=\"text-align: right;\">\n",
       "      <th></th>\n",
       "      <th>movieId</th>\n",
       "      <th>title</th>\n",
       "      <th>genres</th>\n",
       "      <th>decade</th>\n",
       "      <th>title_clean</th>\n",
       "    </tr>\n",
       "  </thead>\n",
       "  <tbody>\n",
       "    <tr>\n",
       "      <td>0</td>\n",
       "      <td>1</td>\n",
       "      <td>Toy Story (1995)</td>\n",
       "      <td>Adventure|Animation|Children|Comedy|Fantasy</td>\n",
       "      <td>1990s</td>\n",
       "      <td>Toy Story</td>\n",
       "    </tr>\n",
       "    <tr>\n",
       "      <td>1</td>\n",
       "      <td>2</td>\n",
       "      <td>Jumanji (1995)</td>\n",
       "      <td>Adventure|Children|Fantasy</td>\n",
       "      <td>1990s</td>\n",
       "      <td>Jumanji</td>\n",
       "    </tr>\n",
       "    <tr>\n",
       "      <td>2</td>\n",
       "      <td>3</td>\n",
       "      <td>Grumpier Old Men (1995)</td>\n",
       "      <td>Comedy|Romance</td>\n",
       "      <td>1990s</td>\n",
       "      <td>Grumpier Old Men</td>\n",
       "    </tr>\n",
       "    <tr>\n",
       "      <td>3</td>\n",
       "      <td>4</td>\n",
       "      <td>Waiting to Exhale (1995)</td>\n",
       "      <td>Comedy|Drama|Romance</td>\n",
       "      <td>1990s</td>\n",
       "      <td>Waiting to Exhale</td>\n",
       "    </tr>\n",
       "    <tr>\n",
       "      <td>4</td>\n",
       "      <td>5</td>\n",
       "      <td>Father of the Bride Part II (1995)</td>\n",
       "      <td>Comedy</td>\n",
       "      <td>1990s</td>\n",
       "      <td>Father of the Bride Part II</td>\n",
       "    </tr>\n",
       "  </tbody>\n",
       "</table>\n",
       "</div>"
      ],
      "text/plain": [
       "   movieId                               title  \\\n",
       "0        1                    Toy Story (1995)   \n",
       "1        2                      Jumanji (1995)   \n",
       "2        3             Grumpier Old Men (1995)   \n",
       "3        4            Waiting to Exhale (1995)   \n",
       "4        5  Father of the Bride Part II (1995)   \n",
       "\n",
       "                                        genres decade  \\\n",
       "0  Adventure|Animation|Children|Comedy|Fantasy  1990s   \n",
       "1                   Adventure|Children|Fantasy  1990s   \n",
       "2                               Comedy|Romance  1990s   \n",
       "3                         Comedy|Drama|Romance  1990s   \n",
       "4                                       Comedy  1990s   \n",
       "\n",
       "                   title_clean  \n",
       "0                    Toy Story  \n",
       "1                      Jumanji  \n",
       "2             Grumpier Old Men  \n",
       "3            Waiting to Exhale  \n",
       "4  Father of the Bride Part II  "
      ]
     },
     "execution_count": 261,
     "metadata": {},
     "output_type": "execute_result"
    }
   ],
   "source": [
    "movies.head()"
   ]
  },
  {
   "cell_type": "code",
   "execution_count": 262,
   "metadata": {},
   "outputs": [],
   "source": [
    "m_tags = {}\n",
    "for col in ['genres', 'decade', 'title_clean']:\n",
    "    for m_id in movies['movieId'].unique():\n",
    "        for i in movies[movies['movieId'] == m_id][col]:\n",
    "            if m_id in m_tags:\n",
    "                m_tags[m_id].append(' '.join(i.lower().split('|')))\n",
    "            else:\n",
    "                m_tags[m_id] = i.lower().split('|')"
   ]
  },
  {
   "cell_type": "code",
   "execution_count": 287,
   "metadata": {},
   "outputs": [],
   "source": [
    "#m_tags"
   ]
  },
  {
   "cell_type": "code",
   "execution_count": 264,
   "metadata": {},
   "outputs": [],
   "source": [
    "m_tags_list = list(m_tags.values())"
   ]
  },
  {
   "cell_type": "code",
   "execution_count": 288,
   "metadata": {},
   "outputs": [
    {
     "data": {
      "text/plain": [
       "[['adventure',\n",
       "  'animation',\n",
       "  'children',\n",
       "  'comedy',\n",
       "  'fantasy',\n",
       "  '1990s',\n",
       "  'toy story'],\n",
       " ['adventure', 'children', 'fantasy', '1990s', 'jumanji'],\n",
       " ['comedy', 'romance', '1990s', 'grumpier old men'],\n",
       " ['comedy', 'drama', 'romance', '1990s', 'waiting to exhale'],\n",
       " ['comedy', '1990s', 'father of the bride part ii']]"
      ]
     },
     "execution_count": 288,
     "metadata": {},
     "output_type": "execute_result"
    }
   ],
   "source": [
    "m_tags_list[:5]"
   ]
  },
  {
   "cell_type": "code",
   "execution_count": 266,
   "metadata": {},
   "outputs": [],
   "source": [
    "stopwords_list = stopwords.words('english')\n",
    "\n",
    "stopwords_list += list(string.punctuation)"
   ]
  },
  {
   "cell_type": "code",
   "execution_count": 267,
   "metadata": {},
   "outputs": [],
   "source": [
    "def process_article(article):\n",
    "    \n",
    "    article = ' '.join(article)\n",
    "    \n",
    "    tokens = word_tokenize(article) \n",
    "    #   word_tokenize splits text into a list of strings split based on white \n",
    "    #   space (or aposraphes)\n",
    "\n",
    "    tokens_2 = [] \n",
    "    # empty list to store only relevant (lowercased) tokens that aren't in the \n",
    "    #   stopword list\n",
    "    \n",
    "    for token in tokens:\n",
    "    \n",
    "        if token.lower() not in stopwords_list:\n",
    "                \n",
    "            tokens_2.append(token.lower())\n",
    "                \n",
    "    return tokens_2"
   ]
  },
  {
   "cell_type": "code",
   "execution_count": 268,
   "metadata": {},
   "outputs": [],
   "source": [
    "processed_data = list(map(process_article, m_tags_list))"
   ]
  },
  {
   "cell_type": "code",
   "execution_count": 269,
   "metadata": {},
   "outputs": [
    {
     "data": {
      "text/plain": [
       "9742"
      ]
     },
     "execution_count": 269,
     "metadata": {},
     "output_type": "execute_result"
    }
   ],
   "source": [
    "len(processed_data) "
   ]
  },
  {
   "cell_type": "code",
   "execution_count": 271,
   "metadata": {},
   "outputs": [
    {
     "data": {
      "text/plain": [
       "9742"
      ]
     },
     "execution_count": 271,
     "metadata": {},
     "output_type": "execute_result"
    }
   ],
   "source": [
    "len(movies['movieId'].unique())"
   ]
  },
  {
   "cell_type": "code",
   "execution_count": 270,
   "metadata": {},
   "outputs": [
    {
     "data": {
      "text/plain": [
       "[['adventure',\n",
       "  'animation',\n",
       "  'children',\n",
       "  'comedy',\n",
       "  'fantasy',\n",
       "  '1990s',\n",
       "  'toy',\n",
       "  'story'],\n",
       " ['adventure', 'children', 'fantasy', '1990s', 'jumanji'],\n",
       " ['comedy', 'romance', '1990s', 'grumpier', 'old', 'men'],\n",
       " ['comedy', 'drama', 'romance', '1990s', 'waiting', 'exhale'],\n",
       " ['comedy', '1990s', 'father', 'bride', 'part', 'ii']]"
      ]
     },
     "execution_count": 270,
     "metadata": {},
     "output_type": "execute_result"
    }
   ],
   "source": [
    "processed_data[:5]"
   ]
  },
  {
   "cell_type": "code",
   "execution_count": 272,
   "metadata": {},
   "outputs": [],
   "source": [
    "total_vocab = set()\n",
    "for doc in processed_data:\n",
    "    total_vocab.update(doc)"
   ]
  },
  {
   "cell_type": "code",
   "execution_count": 275,
   "metadata": {},
   "outputs": [
    {
     "data": {
      "text/plain": [
       "9273"
      ]
     },
     "execution_count": 275,
     "metadata": {},
     "output_type": "execute_result"
    }
   ],
   "source": [
    "len(total_vocab)"
   ]
  },
  {
   "cell_type": "code",
   "execution_count": 276,
   "metadata": {},
   "outputs": [],
   "source": [
    "articles_concat = []\n",
    "for doc in processed_data:\n",
    "    articles_concat += doc"
   ]
  },
  {
   "cell_type": "code",
   "execution_count": 280,
   "metadata": {},
   "outputs": [],
   "source": [
    "freqdist = FreqDist(articles_concat)"
   ]
  },
  {
   "cell_type": "code",
   "execution_count": 281,
   "metadata": {},
   "outputs": [
    {
     "data": {
      "text/plain": [
       "FreqDist({'drama': 4362, 'comedy': 3768, '2000s': 2849, '1990s': 2212, '2010s': 1931, 'thriller': 1895, 'action': 1836, 'romance': 1603, 'adventure': 1279, 'crime': 1210, ...})"
      ]
     },
     "execution_count": 281,
     "metadata": {},
     "output_type": "execute_result"
    }
   ],
   "source": [
    "freqdist"
   ]
  },
  {
   "cell_type": "code",
   "execution_count": 282,
   "metadata": {},
   "outputs": [
    {
     "data": {
      "text/plain": [
       "[('drama', 4362),\n",
       " ('comedy', 3768),\n",
       " ('2000s', 2849),\n",
       " ('1990s', 2212),\n",
       " ('2010s', 1931),\n",
       " ('thriller', 1895),\n",
       " ('action', 1836),\n",
       " ('romance', 1603),\n",
       " ('adventure', 1279),\n",
       " ('crime', 1210),\n",
       " ('1980s', 1177),\n",
       " ('horror', 985),\n",
       " ('sci-fi', 980),\n",
       " ('fantasy', 782),\n",
       " ('children', 691),\n",
       " ('animation', 612),\n",
       " ('mystery', 583),\n",
       " ('1970s', 500),\n",
       " ('documentary', 440),\n",
       " ('war', 421)]"
      ]
     },
     "execution_count": 282,
     "metadata": {},
     "output_type": "execute_result"
    }
   ],
   "source": [
    "most_common = freqdist.most_common(20)\n",
    "\n",
    "most_common "
   ]
  },
  {
   "cell_type": "code",
   "execution_count": 286,
   "metadata": {},
   "outputs": [
    {
     "data": {
      "text/plain": [
       "<BarContainer object of 20 artists>"
      ]
     },
     "execution_count": 286,
     "metadata": {},
     "output_type": "execute_result"
    },
    {
     "data": {
      "image/png": "[encoded data removed]",
      "text/plain": [
       "<Figure size 1440x360 with 1 Axes>"
      ]
     },
     "metadata": {
      "needs_background": "light"
     },
     "output_type": "display_data"
    }
   ],
   "source": [
    "plt.figure(figsize = (20, 5))\n",
    "plt.bar([word[0] for word in most_common], [word[1] for word in most_common])"
   ]
  },
  {
   "cell_type": "code",
   "execution_count": 289,
   "metadata": {},
   "outputs": [],
   "source": [
    "vectorizer = TfidfVectorizer(analyzer='word', ngram_range=(1, 2), stop_words=stopwords_list)"
   ]
  },
  {
   "cell_type": "code",
   "execution_count": 290,
   "metadata": {},
   "outputs": [],
   "source": [
    "m_tags_list_2 = [' '.join(x) for x in m_tags_list]"
   ]
  },
  {
   "cell_type": "code",
   "execution_count": 291,
   "metadata": {},
   "outputs": [],
   "source": [
    "tf_idf_data_train = vectorizer.fit_transform(m_tags_list_2)"
   ]
  },
  {
   "cell_type": "code",
   "execution_count": 292,
   "metadata": {},
   "outputs": [
    {
     "data": {
      "text/plain": [
       "scipy.sparse.csr.csr_matrix"
      ]
     },
     "execution_count": 292,
     "metadata": {},
     "output_type": "execute_result"
    }
   ],
   "source": [
    "type(tf_idf_data_train)"
   ]
  },
  {
   "cell_type": "code",
   "execution_count": 293,
   "metadata": {},
   "outputs": [
    {
     "data": {
      "text/plain": [
       "(9742, 28738)"
      ]
     },
     "execution_count": 293,
     "metadata": {},
     "output_type": "execute_result"
    }
   ],
   "source": [
    "tf_idf_data_train.shape"
   ]
  },
  {
   "cell_type": "markdown",
   "metadata": {},
   "source": [
    "<font size=\"3\">Over 28,000 features as a result of TF-IDF vectorisation. <br>\n",
    "    Dimensionality reduction will be attempted, with the aim of retaining at least 90% explained variance<font>"
   ]
  },
  {
   "cell_type": "code",
   "execution_count": 302,
   "metadata": {},
   "outputs": [],
   "source": [
    "# Instantiate SVD\n",
    "svd = TruncatedSVD(n_components=8000, n_iter=7, random_state=42)\n",
    "\n",
    "# fit and transform on vectorised tf-idf matrix\n",
    "tf_idf_data_train_svd = svd.fit_transform(tf_idf_data_train)"
   ]
  },
  {
   "cell_type": "code",
   "execution_count": 303,
   "metadata": {},
   "outputs": [
    {
     "name": "stdout",
     "output_type": "stream",
     "text": [
      "0.9604608646851812\n"
     ]
    }
   ],
   "source": [
    "print(svd.explained_variance_ratio_.sum())"
   ]
  },
  {
   "cell_type": "markdown",
   "metadata": {},
   "source": [
    "<font size=\"3\">Original matrix of +28,000 dimensions has been reduced to 8,000 components while retaining 96% of the explained variance.<font>"
   ]
  },
  {
   "cell_type": "markdown",
   "metadata": {},
   "source": [
    "### Calculate TF-IDF similarities between movies"
   ]
  },
  {
   "cell_type": "markdown",
   "metadata": {},
   "source": [
    "<font size=\"3\">**Cosine Similarity** will be used to calculate the similarity between all pairwise movies. \n",
    "\n",
    "As we are performing similarity calculations on a TF-IDF Vectorized matrix, simply calculating the dot product for each pairing will be equivalent to the Cosine Similarity Score. This means sklearn's linear_kernel can be used instead of the cosine kernel as it is much faster.<font>"
   ]
  },
  {
   "cell_type": "code",
   "execution_count": 304,
   "metadata": {},
   "outputs": [],
   "source": [
    "cosine_sim = linear_kernel(tf_idf_data_train_svd, tf_idf_data_train_svd)"
   ]
  },
  {
   "cell_type": "code",
   "execution_count": 307,
   "metadata": {},
   "outputs": [
    {
     "data": {
      "text/plain": [
       "(9742, 9742)"
      ]
     },
     "execution_count": 307,
     "metadata": {},
     "output_type": "execute_result"
    }
   ],
   "source": [
    "cosine_sim.shape"
   ]
  },
  {
   "cell_type": "code",
   "execution_count": 313,
   "metadata": {},
   "outputs": [],
   "source": [
    "movies_2 = movies.reset_index()\n",
    "\n",
    "# extract all unique movie IDs\n",
    "m_ids = movies_2['movieId']\n",
    "\n",
    "# extract the movies' position within the movies dataset which also corresponds to its position within the \n",
    "# TF-IDF vectorised matrix (from which we will extract similarity scores later on)\n",
    "indices = pd.Series(movies_2.index, index=movies['movieId'])"
   ]
  },
  {
   "cell_type": "code",
   "execution_count": 354,
   "metadata": {},
   "outputs": [],
   "source": [
    "def get_most_similar_movies(movieid, n = 20):\n",
    "    \n",
    "    # this function will, for any given movieId, obtain the 50 most similar movies (based on their TF-IDF score)\n",
    "    idx = indices[movieid]\n",
    "    sim_scores = list(enumerate(cosine_sim[idx]))\n",
    "    sim_scores = sorted(sim_scores, key=lambda x: x[1], reverse=True)\n",
    "    sim_scores = sim_scores[0:n]   # not [0:51] because the the 0 position movie will be the originally specified\n",
    "                                    # movie as it will be the most similar to itself.\n",
    "    movie_indices = [i[0] for i in sim_scores]\n",
    "\n",
    "    recs = pd.DataFrame(columns = movies_2.columns)\n",
    "    for i in m_ids.iloc[movie_indices]:\n",
    "        \n",
    "        if i != movieid:\n",
    "            recs = recs.append(movies_2[movies_2['movieId'] == i])\n",
    "    \n",
    "    return recs"
   ]
  },
  {
   "cell_type": "code",
   "execution_count": 357,
   "metadata": {},
   "outputs": [
    {
     "data": {
      "text/html": [
       "<div>\n",
       "<style scoped>\n",
       "    .dataframe tbody tr th:only-of-type {\n",
       "        vertical-align: middle;\n",
       "    }\n",
       "\n",
       "    .dataframe tbody tr th {\n",
       "        vertical-align: top;\n",
       "    }\n",
       "\n",
       "    .dataframe thead th {\n",
       "        text-align: right;\n",
       "    }\n",
       "</style>\n",
       "<table border=\"1\" class=\"dataframe\">\n",
       "  <thead>\n",
       "    <tr style=\"text-align: right;\">\n",
       "      <th></th>\n",
       "      <th>movieId</th>\n",
       "      <th>title</th>\n",
       "      <th>genres</th>\n",
       "      <th>decade</th>\n",
       "      <th>title_clean</th>\n",
       "    </tr>\n",
       "  </thead>\n",
       "  <tbody>\n",
       "    <tr>\n",
       "      <td>4</td>\n",
       "      <td>5</td>\n",
       "      <td>Father of the Bride Part II (1995)</td>\n",
       "      <td>Comedy</td>\n",
       "      <td>1990s</td>\n",
       "      <td>Father of the Bride Part II</td>\n",
       "    </tr>\n",
       "  </tbody>\n",
       "</table>\n",
       "</div>"
      ],
      "text/plain": [
       "   movieId                               title  genres decade  \\\n",
       "4        5  Father of the Bride Part II (1995)  Comedy  1990s   \n",
       "\n",
       "                   title_clean  \n",
       "4  Father of the Bride Part II  "
      ]
     },
     "execution_count": 357,
     "metadata": {},
     "output_type": "execute_result"
    }
   ],
   "source": [
    "movies[movies['movieId'] == 5]"
   ]
  },
  {
   "cell_type": "code",
   "execution_count": 356,
   "metadata": {},
   "outputs": [
    {
     "data": {
      "text/html": [
       "<div>\n",
       "<style scoped>\n",
       "    .dataframe tbody tr th:only-of-type {\n",
       "        vertical-align: middle;\n",
       "    }\n",
       "\n",
       "    .dataframe tbody tr th {\n",
       "        vertical-align: top;\n",
       "    }\n",
       "\n",
       "    .dataframe thead th {\n",
       "        text-align: right;\n",
       "    }\n",
       "</style>\n",
       "<table border=\"1\" class=\"dataframe\">\n",
       "  <thead>\n",
       "    <tr style=\"text-align: right;\">\n",
       "      <th></th>\n",
       "      <th>index</th>\n",
       "      <th>movieId</th>\n",
       "      <th>title</th>\n",
       "      <th>genres</th>\n",
       "      <th>decade</th>\n",
       "      <th>title_clean</th>\n",
       "    </tr>\n",
       "  </thead>\n",
       "  <tbody>\n",
       "    <tr>\n",
       "      <td>4645</td>\n",
       "      <td>4645</td>\n",
       "      <td>6944</td>\n",
       "      <td>Father of the Bride (1991)</td>\n",
       "      <td>Comedy</td>\n",
       "      <td>1990s</td>\n",
       "      <td>Father of the Bride</td>\n",
       "    </tr>\n",
       "    <tr>\n",
       "      <td>715</td>\n",
       "      <td>715</td>\n",
       "      <td>934</td>\n",
       "      <td>Father of the Bride (1950)</td>\n",
       "      <td>Comedy</td>\n",
       "      <td>1950s</td>\n",
       "      <td>Father of the Bride</td>\n",
       "    </tr>\n",
       "    <tr>\n",
       "      <td>1974</td>\n",
       "      <td>1974</td>\n",
       "      <td>2620</td>\n",
       "      <td>This Is My Father (1998)</td>\n",
       "      <td>Drama|Romance</td>\n",
       "      <td>1990s</td>\n",
       "      <td>This Is My Father</td>\n",
       "    </tr>\n",
       "    <tr>\n",
       "      <td>5176</td>\n",
       "      <td>5176</td>\n",
       "      <td>8380</td>\n",
       "      <td>Father Hood (1993)</td>\n",
       "      <td>Comedy</td>\n",
       "      <td>1990s</td>\n",
       "      <td>Father Hood</td>\n",
       "    </tr>\n",
       "    <tr>\n",
       "      <td>5591</td>\n",
       "      <td>5591</td>\n",
       "      <td>26871</td>\n",
       "      <td>My Father the Hero (1994)</td>\n",
       "      <td>Comedy|Romance</td>\n",
       "      <td>1990s</td>\n",
       "      <td>My Father the Hero</td>\n",
       "    </tr>\n",
       "    <tr>\n",
       "      <td>2294</td>\n",
       "      <td>2294</td>\n",
       "      <td>3041</td>\n",
       "      <td>Meatballs Part II (1984)</td>\n",
       "      <td>Comedy</td>\n",
       "      <td>1980s</td>\n",
       "      <td>Meatballs Part II</td>\n",
       "    </tr>\n",
       "    <tr>\n",
       "      <td>7612</td>\n",
       "      <td>7612</td>\n",
       "      <td>86911</td>\n",
       "      <td>Hangover Part II, The (2011)</td>\n",
       "      <td>Comedy</td>\n",
       "      <td>2010s</td>\n",
       "      <td>Hangover Part II, The</td>\n",
       "    </tr>\n",
       "    <tr>\n",
       "      <td>922</td>\n",
       "      <td>922</td>\n",
       "      <td>1221</td>\n",
       "      <td>Godfather: Part II, The (1974)</td>\n",
       "      <td>Crime|Drama</td>\n",
       "      <td>1970s</td>\n",
       "      <td>Godfather: Part II, The</td>\n",
       "    </tr>\n",
       "    <tr>\n",
       "      <td>6500</td>\n",
       "      <td>6500</td>\n",
       "      <td>53435</td>\n",
       "      <td>Hostel: Part II (2007)</td>\n",
       "      <td>Crime|Horror|Thriller</td>\n",
       "      <td>2000s</td>\n",
       "      <td>Hostel: Part II</td>\n",
       "    </tr>\n",
       "    <tr>\n",
       "      <td>2154</td>\n",
       "      <td>2154</td>\n",
       "      <td>2868</td>\n",
       "      <td>Fright Night Part II (1988)</td>\n",
       "      <td>Horror</td>\n",
       "      <td>1980s</td>\n",
       "      <td>Fright Night Part II</td>\n",
       "    </tr>\n",
       "    <tr>\n",
       "      <td>1821</td>\n",
       "      <td>1821</td>\n",
       "      <td>2421</td>\n",
       "      <td>Karate Kid, Part II, The (1986)</td>\n",
       "      <td>Action|Adventure|Drama</td>\n",
       "      <td>1980s</td>\n",
       "      <td>Karate Kid, Part II, The</td>\n",
       "    </tr>\n",
       "    <tr>\n",
       "      <td>1486</td>\n",
       "      <td>1486</td>\n",
       "      <td>2011</td>\n",
       "      <td>Back to the Future Part II (1989)</td>\n",
       "      <td>Adventure|Comedy|Sci-Fi</td>\n",
       "      <td>1980s</td>\n",
       "      <td>Back to the Future Part II</td>\n",
       "    </tr>\n",
       "    <tr>\n",
       "      <td>2756</td>\n",
       "      <td>2756</td>\n",
       "      <td>3694</td>\n",
       "      <td>Toxic Avenger, Part II, The (1989)</td>\n",
       "      <td>Comedy|Horror</td>\n",
       "      <td>1980s</td>\n",
       "      <td>Toxic Avenger, Part II, The</td>\n",
       "    </tr>\n",
       "    <tr>\n",
       "      <td>1215</td>\n",
       "      <td>1215</td>\n",
       "      <td>1614</td>\n",
       "      <td>In &amp; Out (1997)</td>\n",
       "      <td>Comedy</td>\n",
       "      <td>1990s</td>\n",
       "      <td>In &amp; Out</td>\n",
       "    </tr>\n",
       "    <tr>\n",
       "      <td>1139</td>\n",
       "      <td>1139</td>\n",
       "      <td>1490</td>\n",
       "      <td>B*A*P*S (1997)</td>\n",
       "      <td>Comedy</td>\n",
       "      <td>1990s</td>\n",
       "      <td>B*A*P*S</td>\n",
       "    </tr>\n",
       "    <tr>\n",
       "      <td>9667</td>\n",
       "      <td>9667</td>\n",
       "      <td>182639</td>\n",
       "      <td>The Second Renaissance Part II (2003)</td>\n",
       "      <td>Animation|Sci-Fi</td>\n",
       "      <td>2000s</td>\n",
       "      <td>The Second Renaissance Part II</td>\n",
       "    </tr>\n",
       "    <tr>\n",
       "      <td>1802</td>\n",
       "      <td>1802</td>\n",
       "      <td>2402</td>\n",
       "      <td>Rambo: First Blood Part II (1985)</td>\n",
       "      <td>Action|Adventure|Thriller</td>\n",
       "      <td>1980s</td>\n",
       "      <td>Rambo: First Blood Part II</td>\n",
       "    </tr>\n",
       "    <tr>\n",
       "      <td>2742</td>\n",
       "      <td>2742</td>\n",
       "      <td>3680</td>\n",
       "      <td>Decline of Western Civilization Part II: The M...</td>\n",
       "      <td>Documentary</td>\n",
       "      <td>1980s</td>\n",
       "      <td>Decline of Western Civilization Part II: The M...</td>\n",
       "    </tr>\n",
       "    <tr>\n",
       "      <td>4324</td>\n",
       "      <td>4324</td>\n",
       "      <td>6319</td>\n",
       "      <td>My Father the Hero (Mon père, ce héros.) (1991)</td>\n",
       "      <td>Comedy|Drama</td>\n",
       "      <td>1990s</td>\n",
       "      <td>My Father the Hero (Mon père, ce héros.)</td>\n",
       "    </tr>\n",
       "  </tbody>\n",
       "</table>\n",
       "</div>"
      ],
      "text/plain": [
       "     index movieId                                              title  \\\n",
       "4645  4645    6944                         Father of the Bride (1991)   \n",
       "715    715     934                         Father of the Bride (1950)   \n",
       "1974  1974    2620                           This Is My Father (1998)   \n",
       "5176  5176    8380                                 Father Hood (1993)   \n",
       "5591  5591   26871                          My Father the Hero (1994)   \n",
       "2294  2294    3041                           Meatballs Part II (1984)   \n",
       "7612  7612   86911                       Hangover Part II, The (2011)   \n",
       "922    922    1221                     Godfather: Part II, The (1974)   \n",
       "6500  6500   53435                             Hostel: Part II (2007)   \n",
       "2154  2154    2868                        Fright Night Part II (1988)   \n",
       "1821  1821    2421                    Karate Kid, Part II, The (1986)   \n",
       "1486  1486    2011                  Back to the Future Part II (1989)   \n",
       "2756  2756    3694                 Toxic Avenger, Part II, The (1989)   \n",
       "1215  1215    1614                                    In & Out (1997)   \n",
       "1139  1139    1490                                     B*A*P*S (1997)   \n",
       "9667  9667  182639              The Second Renaissance Part II (2003)   \n",
       "1802  1802    2402                  Rambo: First Blood Part II (1985)   \n",
       "2742  2742    3680  Decline of Western Civilization Part II: The M...   \n",
       "4324  4324    6319    My Father the Hero (Mon père, ce héros.) (1991)   \n",
       "\n",
       "                         genres decade  \\\n",
       "4645                     Comedy  1990s   \n",
       "715                      Comedy  1950s   \n",
       "1974              Drama|Romance  1990s   \n",
       "5176                     Comedy  1990s   \n",
       "5591             Comedy|Romance  1990s   \n",
       "2294                     Comedy  1980s   \n",
       "7612                     Comedy  2010s   \n",
       "922                 Crime|Drama  1970s   \n",
       "6500      Crime|Horror|Thriller  2000s   \n",
       "2154                     Horror  1980s   \n",
       "1821     Action|Adventure|Drama  1980s   \n",
       "1486    Adventure|Comedy|Sci-Fi  1980s   \n",
       "2756              Comedy|Horror  1980s   \n",
       "1215                     Comedy  1990s   \n",
       "1139                     Comedy  1990s   \n",
       "9667           Animation|Sci-Fi  2000s   \n",
       "1802  Action|Adventure|Thriller  1980s   \n",
       "2742                Documentary  1980s   \n",
       "4324               Comedy|Drama  1990s   \n",
       "\n",
       "                                            title_clean  \n",
       "4645                                Father of the Bride  \n",
       "715                                 Father of the Bride  \n",
       "1974                                  This Is My Father  \n",
       "5176                                        Father Hood  \n",
       "5591                                 My Father the Hero  \n",
       "2294                                  Meatballs Part II  \n",
       "7612                              Hangover Part II, The  \n",
       "922                             Godfather: Part II, The  \n",
       "6500                                    Hostel: Part II  \n",
       "2154                               Fright Night Part II  \n",
       "1821                           Karate Kid, Part II, The  \n",
       "1486                         Back to the Future Part II  \n",
       "2756                        Toxic Avenger, Part II, The  \n",
       "1215                                           In & Out  \n",
       "1139                                            B*A*P*S  \n",
       "9667                     The Second Renaissance Part II  \n",
       "1802                         Rambo: First Blood Part II  \n",
       "2742  Decline of Western Civilization Part II: The M...  \n",
       "4324           My Father the Hero (Mon père, ce héros.)  "
      ]
     },
     "execution_count": 356,
     "metadata": {},
     "output_type": "execute_result"
    }
   ],
   "source": [
    "get_most_similar_movies(5)"
   ]
  },
  {
   "cell_type": "code",
   "execution_count": 358,
   "metadata": {},
   "outputs": [],
   "source": [
    "def rated_notrated(userid):\n",
    "    movies_already_rated = list(ratings_clean_copy[ratings_clean_copy.userId == userid]['movieId'].unique())\n",
    "    movies_not_rated = [x for x in movies['movieId'] if x not in movies_already_rated]\n",
    "    \n",
    "    return movies_already_rated, movies_not_rated"
   ]
  },
  {
   "cell_type": "code",
   "execution_count": 363,
   "metadata": {},
   "outputs": [],
   "source": [
    "def predicted_ratings_for_unrated(userid, movies_already_rated, movies_not_rated):\n",
    "    ratings_sorted = []\n",
    "\n",
    "    for m_id in movies_not_rated:\n",
    "\n",
    "        user_prediction = ALS_algo.predict(userid, m_id)\n",
    "\n",
    "        pred_rating = user_prediction[3]\n",
    "        pred_movie = movies.loc[movies['movieId'] == user_prediction[1], 'title'].iloc[0]\n",
    "        pred_movie_genre = movies.loc[movies['movieId'] == user_prediction[1], 'genres'].iloc[0]\n",
    "        ratings_sorted.append((pred_movie, pred_movie_genre, pred_rating))\n",
    "    \n",
    "    return ratings_sorted.sort(key = lambda x: x[2], reverse = True)"
   ]
  },
  {
   "cell_type": "code",
   "execution_count": 409,
   "metadata": {},
   "outputs": [],
   "source": [
    "def top_rated_movies(userid, n = 20):\n",
    "    \n",
    "    movies_already_rated, movies_not_rated = rated_notrated(userid)    \n",
    "\n",
    "    movies_already_rated_by_highest = ratings_clean_copy.loc[(ratings_clean_copy['movieId'].isin(movies_already_rated)) & \\\n",
    "                                            (ratings_clean_copy['userId'] == userid)].sort_values(by=['rating'], \\\n",
    "                                                                                   ascending = False)\n",
    "    movies_already_rated_by_highest = movies_already_rated_by_highest[['movieId', 'rating']][:n]\n",
    "    \n",
    "    top_n = movies[movies['movieId'].isin(movies_already_rated_by_highest['movieId'])]\n",
    "    \n",
    "    top_n = top_n.merge(movies_already_rated_by_highest, how = 'left', on = 'movieId')\n",
    "    \n",
    "    top_n = top_n.sort_values(by = ['rating'], ascending = False)\n",
    "    \n",
    "    return top_n"
   ]
  },
  {
   "cell_type": "code",
   "execution_count": 410,
   "metadata": {},
   "outputs": [],
   "source": [
    "def make_hybrid_recommendation(userid, movies_already_rated_by_highest, movies_already_rated):\n",
    "    rec_list = []\n",
    "    for i in movies_already_rated_by_highest['movieId']:\n",
    "        for j in get_most_similar_movies(i)['movieId']:\n",
    "            content_recommended = movies_2[movies_2['movieId'] == j]\n",
    "            rec_list.append((j, content_recommended['title'].iloc[0], ALS_algo.predict(userid, content_recommended['movieId'].iloc[0])[3]))\n",
    "\n",
    "    rec_list = [x for x in rec_list if x[0] not in movies_already_rated]\n",
    "    \n",
    "    rec_list = list(set(rec_list))\n",
    "    \n",
    "    rec_list.sort(key = lambda x: x[2], reverse= True)\n",
    "    \n",
    "    \n",
    "\n",
    "    return rec_list\n"
   ]
  },
  {
   "cell_type": "code",
   "execution_count": 411,
   "metadata": {},
   "outputs": [],
   "source": [
    "def recommend_to_existing_user(userid, n = 10):\n",
    "    \n",
    "    movies_already_rated, movies_not_rated = rated_notrated(userid)\n",
    "    \n",
    "    movies_already_rated_by_highest = top_rated_movies(userid)\n",
    "    \n",
    "    rec_list = make_hybrid_recommendation(userid, movies_already_rated_by_highest, movies_already_rated)\n",
    "    \n",
    "    return rec_list[:n]"
   ]
  },
  {
   "cell_type": "code",
   "execution_count": 412,
   "metadata": {
    "scrolled": false
   },
   "outputs": [
    {
     "data": {
      "text/html": [
       "<div>\n",
       "<style scoped>\n",
       "    .dataframe tbody tr th:only-of-type {\n",
       "        vertical-align: middle;\n",
       "    }\n",
       "\n",
       "    .dataframe tbody tr th {\n",
       "        vertical-align: top;\n",
       "    }\n",
       "\n",
       "    .dataframe thead th {\n",
       "        text-align: right;\n",
       "    }\n",
       "</style>\n",
       "<table border=\"1\" class=\"dataframe\">\n",
       "  <thead>\n",
       "    <tr style=\"text-align: right;\">\n",
       "      <th></th>\n",
       "      <th>movieId</th>\n",
       "      <th>title</th>\n",
       "      <th>genres</th>\n",
       "      <th>decade</th>\n",
       "      <th>title_clean</th>\n",
       "      <th>rating</th>\n",
       "    </tr>\n",
       "  </thead>\n",
       "  <tbody>\n",
       "    <tr>\n",
       "      <td>3</td>\n",
       "      <td>1198</td>\n",
       "      <td>Raiders of the Lost Ark (Indiana Jones and the...</td>\n",
       "      <td>Action|Adventure</td>\n",
       "      <td>1980s</td>\n",
       "      <td>Raiders of the Lost Ark (Indiana Jones and the...</td>\n",
       "      <td>5.0</td>\n",
       "    </tr>\n",
       "    <tr>\n",
       "      <td>4</td>\n",
       "      <td>1270</td>\n",
       "      <td>Back to the Future (1985)</td>\n",
       "      <td>Adventure|Comedy|Sci-Fi</td>\n",
       "      <td>1980s</td>\n",
       "      <td>Back to the Future</td>\n",
       "      <td>5.0</td>\n",
       "    </tr>\n",
       "    <tr>\n",
       "      <td>16</td>\n",
       "      <td>5952</td>\n",
       "      <td>Lord of the Rings: The Two Towers, The (2002)</td>\n",
       "      <td>Adventure|Fantasy</td>\n",
       "      <td>2000s</td>\n",
       "      <td>Lord of the Rings: The Two Towers, The</td>\n",
       "      <td>5.0</td>\n",
       "    </tr>\n",
       "    <tr>\n",
       "      <td>7</td>\n",
       "      <td>2300</td>\n",
       "      <td>Producers, The (1968)</td>\n",
       "      <td>Comedy</td>\n",
       "      <td>1960s</td>\n",
       "      <td>Producers, The</td>\n",
       "      <td>5.0</td>\n",
       "    </tr>\n",
       "    <tr>\n",
       "      <td>8</td>\n",
       "      <td>4993</td>\n",
       "      <td>Lord of the Rings: The Fellowship of the Ring,...</td>\n",
       "      <td>Adventure|Fantasy</td>\n",
       "      <td>2000s</td>\n",
       "      <td>Lord of the Rings: The Fellowship of the Ring,...</td>\n",
       "      <td>5.0</td>\n",
       "    </tr>\n",
       "    <tr>\n",
       "      <td>15</td>\n",
       "      <td>5902</td>\n",
       "      <td>Adaptation (2002)</td>\n",
       "      <td>Comedy|Drama|Romance</td>\n",
       "      <td>2000s</td>\n",
       "      <td>Adaptation</td>\n",
       "      <td>5.0</td>\n",
       "    </tr>\n",
       "    <tr>\n",
       "      <td>1</td>\n",
       "      <td>923</td>\n",
       "      <td>Citizen Kane (1941)</td>\n",
       "      <td>Drama|Mystery</td>\n",
       "      <td>1940s</td>\n",
       "      <td>Citizen Kane</td>\n",
       "      <td>5.0</td>\n",
       "    </tr>\n",
       "    <tr>\n",
       "      <td>12</td>\n",
       "      <td>5481</td>\n",
       "      <td>Austin Powers in Goldmember (2002)</td>\n",
       "      <td>Comedy</td>\n",
       "      <td>2000s</td>\n",
       "      <td>Austin Powers in Goldmember</td>\n",
       "      <td>5.0</td>\n",
       "    </tr>\n",
       "    <tr>\n",
       "      <td>0</td>\n",
       "      <td>922</td>\n",
       "      <td>Sunset Blvd. (a.k.a. Sunset Boulevard) (1950)</td>\n",
       "      <td>Drama|Film-Noir|Romance</td>\n",
       "      <td>1950s</td>\n",
       "      <td>Sunset Blvd. (a.k.a. Sunset Boulevard)</td>\n",
       "      <td>4.0</td>\n",
       "    </tr>\n",
       "    <tr>\n",
       "      <td>13</td>\n",
       "      <td>5890</td>\n",
       "      <td>Elling (2001)</td>\n",
       "      <td>Comedy|Drama</td>\n",
       "      <td>2000s</td>\n",
       "      <td>Elling</td>\n",
       "      <td>4.0</td>\n",
       "    </tr>\n",
       "    <tr>\n",
       "      <td>18</td>\n",
       "      <td>5965</td>\n",
       "      <td>Duellists, The (1977)</td>\n",
       "      <td>Action|War</td>\n",
       "      <td>1970s</td>\n",
       "      <td>Duellists, The</td>\n",
       "      <td>4.0</td>\n",
       "    </tr>\n",
       "    <tr>\n",
       "      <td>17</td>\n",
       "      <td>5956</td>\n",
       "      <td>Gangs of New York (2002)</td>\n",
       "      <td>Crime|Drama</td>\n",
       "      <td>2000s</td>\n",
       "      <td>Gangs of New York</td>\n",
       "      <td>4.0</td>\n",
       "    </tr>\n",
       "    <tr>\n",
       "      <td>14</td>\n",
       "      <td>5893</td>\n",
       "      <td>Last Seduction, The (1994)</td>\n",
       "      <td>Crime|Drama|Thriller</td>\n",
       "      <td>1990s</td>\n",
       "      <td>Last Seduction, The</td>\n",
       "      <td>4.0</td>\n",
       "    </tr>\n",
       "    <tr>\n",
       "      <td>10</td>\n",
       "      <td>5447</td>\n",
       "      <td>Sunshine State (2002)</td>\n",
       "      <td>Drama</td>\n",
       "      <td>2000s</td>\n",
       "      <td>Sunshine State</td>\n",
       "      <td>4.0</td>\n",
       "    </tr>\n",
       "    <tr>\n",
       "      <td>11</td>\n",
       "      <td>5451</td>\n",
       "      <td>Pumpkin (2002)</td>\n",
       "      <td>Comedy|Drama|Romance</td>\n",
       "      <td>2000s</td>\n",
       "      <td>Pumpkin</td>\n",
       "      <td>4.0</td>\n",
       "    </tr>\n",
       "    <tr>\n",
       "      <td>9</td>\n",
       "      <td>5218</td>\n",
       "      <td>Ice Age (2002)</td>\n",
       "      <td>Adventure|Animation|Children|Comedy</td>\n",
       "      <td>2000s</td>\n",
       "      <td>Ice Age</td>\n",
       "      <td>4.0</td>\n",
       "    </tr>\n",
       "    <tr>\n",
       "      <td>6</td>\n",
       "      <td>2012</td>\n",
       "      <td>Back to the Future Part III (1990)</td>\n",
       "      <td>Adventure|Comedy|Sci-Fi|Western</td>\n",
       "      <td>1990s</td>\n",
       "      <td>Back to the Future Part III</td>\n",
       "      <td>4.0</td>\n",
       "    </tr>\n",
       "    <tr>\n",
       "      <td>5</td>\n",
       "      <td>1674</td>\n",
       "      <td>Witness (1985)</td>\n",
       "      <td>Drama|Romance|Thriller</td>\n",
       "      <td>1980s</td>\n",
       "      <td>Witness</td>\n",
       "      <td>4.0</td>\n",
       "    </tr>\n",
       "    <tr>\n",
       "      <td>2</td>\n",
       "      <td>1095</td>\n",
       "      <td>Glengarry Glen Ross (1992)</td>\n",
       "      <td>Drama</td>\n",
       "      <td>1990s</td>\n",
       "      <td>Glengarry Glen Ross</td>\n",
       "      <td>4.0</td>\n",
       "    </tr>\n",
       "    <tr>\n",
       "      <td>19</td>\n",
       "      <td>6001</td>\n",
       "      <td>King of Comedy, The (1983)</td>\n",
       "      <td>Comedy|Drama</td>\n",
       "      <td>1980s</td>\n",
       "      <td>King of Comedy, The</td>\n",
       "      <td>4.0</td>\n",
       "    </tr>\n",
       "  </tbody>\n",
       "</table>\n",
       "</div>"
      ],
      "text/plain": [
       "    movieId                                              title  \\\n",
       "3      1198  Raiders of the Lost Ark (Indiana Jones and the...   \n",
       "4      1270                          Back to the Future (1985)   \n",
       "16     5952      Lord of the Rings: The Two Towers, The (2002)   \n",
       "7      2300                              Producers, The (1968)   \n",
       "8      4993  Lord of the Rings: The Fellowship of the Ring,...   \n",
       "15     5902                                  Adaptation (2002)   \n",
       "1       923                                Citizen Kane (1941)   \n",
       "12     5481                 Austin Powers in Goldmember (2002)   \n",
       "0       922      Sunset Blvd. (a.k.a. Sunset Boulevard) (1950)   \n",
       "13     5890                                      Elling (2001)   \n",
       "18     5965                              Duellists, The (1977)   \n",
       "17     5956                           Gangs of New York (2002)   \n",
       "14     5893                         Last Seduction, The (1994)   \n",
       "10     5447                              Sunshine State (2002)   \n",
       "11     5451                                     Pumpkin (2002)   \n",
       "9      5218                                     Ice Age (2002)   \n",
       "6      2012                 Back to the Future Part III (1990)   \n",
       "5      1674                                     Witness (1985)   \n",
       "2      1095                         Glengarry Glen Ross (1992)   \n",
       "19     6001                         King of Comedy, The (1983)   \n",
       "\n",
       "                                 genres decade  \\\n",
       "3                      Action|Adventure  1980s   \n",
       "4               Adventure|Comedy|Sci-Fi  1980s   \n",
       "16                    Adventure|Fantasy  2000s   \n",
       "7                                Comedy  1960s   \n",
       "8                     Adventure|Fantasy  2000s   \n",
       "15                 Comedy|Drama|Romance  2000s   \n",
       "1                         Drama|Mystery  1940s   \n",
       "12                               Comedy  2000s   \n",
       "0               Drama|Film-Noir|Romance  1950s   \n",
       "13                         Comedy|Drama  2000s   \n",
       "18                           Action|War  1970s   \n",
       "17                          Crime|Drama  2000s   \n",
       "14                 Crime|Drama|Thriller  1990s   \n",
       "10                                Drama  2000s   \n",
       "11                 Comedy|Drama|Romance  2000s   \n",
       "9   Adventure|Animation|Children|Comedy  2000s   \n",
       "6       Adventure|Comedy|Sci-Fi|Western  1990s   \n",
       "5                Drama|Romance|Thriller  1980s   \n",
       "2                                 Drama  1990s   \n",
       "19                         Comedy|Drama  1980s   \n",
       "\n",
       "                                          title_clean  rating  \n",
       "3   Raiders of the Lost Ark (Indiana Jones and the...     5.0  \n",
       "4                                  Back to the Future     5.0  \n",
       "16             Lord of the Rings: The Two Towers, The     5.0  \n",
       "7                                      Producers, The     5.0  \n",
       "8   Lord of the Rings: The Fellowship of the Ring,...     5.0  \n",
       "15                                         Adaptation     5.0  \n",
       "1                                        Citizen Kane     5.0  \n",
       "12                        Austin Powers in Goldmember     5.0  \n",
       "0              Sunset Blvd. (a.k.a. Sunset Boulevard)     4.0  \n",
       "13                                             Elling     4.0  \n",
       "18                                     Duellists, The     4.0  \n",
       "17                                  Gangs of New York     4.0  \n",
       "14                                Last Seduction, The     4.0  \n",
       "10                                     Sunshine State     4.0  \n",
       "11                                            Pumpkin     4.0  \n",
       "9                                             Ice Age     4.0  \n",
       "6                         Back to the Future Part III     4.0  \n",
       "5                                             Witness     4.0  \n",
       "2                                 Glengarry Glen Ross     4.0  \n",
       "19                                King of Comedy, The     4.0  "
      ]
     },
     "execution_count": 412,
     "metadata": {},
     "output_type": "execute_result"
    }
   ],
   "source": [
    "top_rated_movies(9)"
   ]
  },
  {
   "cell_type": "code",
   "execution_count": 413,
   "metadata": {},
   "outputs": [
    {
     "data": {
      "text/html": [
       "<div>\n",
       "<style scoped>\n",
       "    .dataframe tbody tr th:only-of-type {\n",
       "        vertical-align: middle;\n",
       "    }\n",
       "\n",
       "    .dataframe tbody tr th {\n",
       "        vertical-align: top;\n",
       "    }\n",
       "\n",
       "    .dataframe thead th {\n",
       "        text-align: right;\n",
       "    }\n",
       "</style>\n",
       "<table border=\"1\" class=\"dataframe\">\n",
       "  <thead>\n",
       "    <tr style=\"text-align: right;\">\n",
       "      <th></th>\n",
       "      <th>movieId</th>\n",
       "      <th>Title</th>\n",
       "      <th>Predicted_Score</th>\n",
       "      <th>ratings_count_rank</th>\n",
       "    </tr>\n",
       "  </thead>\n",
       "  <tbody>\n",
       "    <tr>\n",
       "      <td>0</td>\n",
       "      <td>1208</td>\n",
       "      <td>Apocalypse Now (1979)</td>\n",
       "      <td>4.053262</td>\n",
       "      <td>116.0</td>\n",
       "    </tr>\n",
       "    <tr>\n",
       "      <td>1</td>\n",
       "      <td>7361</td>\n",
       "      <td>Eternal Sunshine of the Spotless Mind (2004)</td>\n",
       "      <td>4.008923</td>\n",
       "      <td>72.0</td>\n",
       "    </tr>\n",
       "    <tr>\n",
       "      <td>2</td>\n",
       "      <td>930</td>\n",
       "      <td>Notorious (1946)</td>\n",
       "      <td>4.006261</td>\n",
       "      <td>1297.0</td>\n",
       "    </tr>\n",
       "    <tr>\n",
       "      <td>3</td>\n",
       "      <td>3836</td>\n",
       "      <td>Kelly's Heroes (1970)</td>\n",
       "      <td>3.954639</td>\n",
       "      <td>1650.0</td>\n",
       "    </tr>\n",
       "    <tr>\n",
       "      <td>4</td>\n",
       "      <td>7153</td>\n",
       "      <td>Lord of the Rings: The Return of the King, The...</td>\n",
       "      <td>3.940819</td>\n",
       "      <td>27.0</td>\n",
       "    </tr>\n",
       "    <tr>\n",
       "      <td>5</td>\n",
       "      <td>928</td>\n",
       "      <td>Rebecca (1940)</td>\n",
       "      <td>3.933060</td>\n",
       "      <td>1419.0</td>\n",
       "    </tr>\n",
       "    <tr>\n",
       "      <td>6</td>\n",
       "      <td>6711</td>\n",
       "      <td>Lost in Translation (2003)</td>\n",
       "      <td>3.924319</td>\n",
       "      <td>240.0</td>\n",
       "    </tr>\n",
       "    <tr>\n",
       "      <td>7</td>\n",
       "      <td>913</td>\n",
       "      <td>Maltese Falcon, The (1941)</td>\n",
       "      <td>3.920273</td>\n",
       "      <td>549.0</td>\n",
       "    </tr>\n",
       "    <tr>\n",
       "      <td>8</td>\n",
       "      <td>1272</td>\n",
       "      <td>Patton (1970)</td>\n",
       "      <td>3.911460</td>\n",
       "      <td>806.0</td>\n",
       "    </tr>\n",
       "    <tr>\n",
       "      <td>9</td>\n",
       "      <td>5008</td>\n",
       "      <td>Witness for the Prosecution (1957)</td>\n",
       "      <td>3.909399</td>\n",
       "      <td>2441.0</td>\n",
       "    </tr>\n",
       "  </tbody>\n",
       "</table>\n",
       "</div>"
      ],
      "text/plain": [
       "   movieId                                              Title  \\\n",
       "0     1208                              Apocalypse Now (1979)   \n",
       "1     7361       Eternal Sunshine of the Spotless Mind (2004)   \n",
       "2      930                                   Notorious (1946)   \n",
       "3     3836                              Kelly's Heroes (1970)   \n",
       "4     7153  Lord of the Rings: The Return of the King, The...   \n",
       "5      928                                     Rebecca (1940)   \n",
       "6     6711                         Lost in Translation (2003)   \n",
       "7      913                         Maltese Falcon, The (1941)   \n",
       "8     1272                                      Patton (1970)   \n",
       "9     5008                 Witness for the Prosecution (1957)   \n",
       "\n",
       "   Predicted_Score  ratings_count_rank  \n",
       "0         4.053262               116.0  \n",
       "1         4.008923                72.0  \n",
       "2         4.006261              1297.0  \n",
       "3         3.954639              1650.0  \n",
       "4         3.940819                27.0  \n",
       "5         3.933060              1419.0  \n",
       "6         3.924319               240.0  \n",
       "7         3.920273               549.0  \n",
       "8         3.911460               806.0  \n",
       "9         3.909399              2441.0  "
      ]
     },
     "execution_count": 413,
     "metadata": {},
     "output_type": "execute_result"
    }
   ],
   "source": [
    "pd.DataFrame(recommend_to_existing_user(9), \\\n",
    "             columns = ['movieId', \\\n",
    "                        'Title', \\\n",
    "                        'Predicted_Score']).merge(\\\n",
    "                                                  ratings_count.loc[:, ['movieId', 'ratings_count_rank']],\\\n",
    "                                                  how = 'left', on = 'movieId')"
   ]
  },
  {
   "cell_type": "markdown",
   "metadata": {},
   "source": [
    "<font size=\"3\">To judge whether the movies being recommended are from the head or the long-tail take note of the column<font> <font size=\"4\">**`ratings_count_rank`<font>**\n",
    "<font size=\"3\"> in the above dataframe. <br>\n",
    "A rank score greater than 2,000 indicates a movie from the long tail of which there is only one that has been recommended (Down by Law (1986) - ranked 2,121).<br><br>\n",
    "It seems that the hybrid recommender system has fallen into the “rich-get-richer” problem whereby the more popular items (from the head of the long-tail distribution) are being recommended rather than the less popular movies from the long-tail.\n",
    "\n",
    "A possible reason for this could be the lack of metadata tagging of the movies within the database thus limiting the ability of calculating TF-IDF similarity within the content based model. The only 'tags' that the content based model\n",
    "has used to measure similarity is the movie title and genre which has inclined it to recommending sequels and prequels.<font>\n",
    "\n"
   ]
  },
  {
   "cell_type": "code",
   "execution_count": null,
   "metadata": {},
   "outputs": [],
   "source": []
  },
  {
   "cell_type": "markdown",
   "metadata": {},
   "source": [
    "### Build a user input interface"
   ]
  },
  {
   "cell_type": "code",
   "execution_count": 397,
   "metadata": {},
   "outputs": [
    {
     "name": "stdout",
     "output_type": "stream",
     "text": [
      "distinct genres:\n",
      " ['adventure', 'romance', 'fantasy', 'war', 'drama', 'animation', 'documentary', 'sci-fi', 'thriller', 'western', '(no genres listed)', 'children', 'action', 'horror', 'mystery', 'musical', 'crime', 'film-noir', 'imax', 'comedy'] \n",
      "\n",
      "numnber distinct genres: 19\n"
     ]
    }
   ],
   "source": [
    "distinct_genres = set()\n",
    "for genre in list(movies.genres.unique()):\n",
    "    distinct_genres.update(genre.lower().split('|'))\n",
    "\n",
    "print('distinct genres:\\n', list(distinct_genres),'\\n')\n",
    "print('numnber distinct genres:', len(distinct_genres)-1)"
   ]
  },
  {
   "cell_type": "code",
   "execution_count": 417,
   "metadata": {},
   "outputs": [],
   "source": [
    "def user_signin():\n",
    "    userid = input(\"\"\"Please enter your userId\n",
    "    If you are a new user then please leave blank\\n\\n\"\"\")\n",
    "    \n",
    "    if userid:\n",
    "        userid = int(userid)\n",
    "    else:\n",
    "        userid = ratings_clean_copy.userId.max()+1\n",
    "        \n",
    "    return userid"
   ]
  },
  {
   "cell_type": "code",
   "execution_count": 418,
   "metadata": {},
   "outputs": [],
   "source": [
    "def lists_overlap(a, b):\n",
    "    for i in a:\n",
    "        if i in b:\n",
    "            return 1\n",
    "    return 0"
   ]
  },
  {
   "cell_type": "code",
   "execution_count": 419,
   "metadata": {},
   "outputs": [],
   "source": [
    "def ALS_fit():\n",
    "    #  convert 'data' into a trainset format that is compatible with Surprise modelling\n",
    "    data = MyDataset(ratings_clean_copy, reader)\n",
    "\n",
    "    trainset = data.build_full_trainset()\n",
    "\n",
    "    ALS_algo.fit(trainset)"
   ]
  },
  {
   "cell_type": "code",
   "execution_count": 456,
   "metadata": {},
   "outputs": [],
   "source": [
    "\n",
    "def cold_start_recommender(n = 10):\n",
    "    global ratings_clean_copy\n",
    "    \n",
    "    userid = user_signin()\n",
    "    \n",
    "    ####################################################################\n",
    "    print('\\n\\n',list(distinct_genres))\n",
    "    \n",
    "    selected_genres = input(\"\"\"\\nAre you a fan on any particular genres? \n",
    "    If so please select from the above list (separated by a ',')\n",
    "    otherwise please type 'no'\\n\\n\"\"\")\n",
    "    \n",
    "    selected_genres = list(selected_genres.lower().split(','))\n",
    "    ####################################################################\n",
    "    \n",
    "    movies_db = movies.copy()             \n",
    "                            \n",
    "    if (selected_genres == ['no'] or lists_overlap(list(distinct_genres), selected_genres) == False):\n",
    "        movies_db['flag'] = 1\n",
    "    else:\n",
    "        movies_db['flag'] = movies['genres'].map(lambda x: lists_overlap(x.lower().split('|'), selected_genres))\n",
    "    \n",
    "    movies_db = movies_db[movies_db['flag'] == 1]\n",
    "    ####################################################################\n",
    "    \n",
    "    random_movie_index = random.sample(range(1, len(movies_db)), n)\n",
    "    \n",
    "    for i in random_movie_index:\n",
    "        random_movie = movies_db.iloc[i]\n",
    "    \n",
    "        print('\\nOn a scale of 0-5, what would you rate this movie?\\n')\n",
    "        print('movie name:', random_movie[1])\n",
    "        print('movie genre:', random_movie[2])\n",
    "        print(\"\\nIf you would prefer to not rate then please type 'skip'\")\n",
    "\n",
    "        while True:\n",
    "            try:\n",
    "                userInput = input()\n",
    "                if userInput == 'skip':\n",
    "                    break\n",
    "                elif int(userInput) > 5 or int(userInput) < 0:\n",
    "                    userInput = int('a')\n",
    "                elif int(userInput) >= 0 or int(userInput) <= 5:\n",
    "                    ratings_clean_copy = ratings_clean_copy.append(pd.DataFrame([[random_movie[0], float(userInput), userid]], \\\n",
    "                                                                                columns = ['movieId', 'rating', 'userId']), \\\n",
    "                                                                   ignore_index=True)\n",
    "            except ValueError:\n",
    "                print(\"please enter a rating between 0-5\")\n",
    "                continue\n",
    "            else:\n",
    "                userInput\n",
    "                break\n",
    "    \n",
    "    ALS_fit()\n",
    "    \n",
    "    return pd.DataFrame(recommend_to_existing_user(userid), \\\n",
    "             columns = ['movieId', \\\n",
    "                        'Title', \\\n",
    "                        'Predicted_Score']).merge(\\\n",
    "                                                  ratings_count.loc[:, ['movieId', 'ratings_count_rank']],\\\n",
    "                                                  how = 'left', on = 'movieId')\n",
    "    ####################################################################"
   ]
  },
  {
   "cell_type": "code",
   "execution_count": 458,
   "metadata": {},
   "outputs": [
    {
     "name": "stdout",
     "output_type": "stream",
     "text": [
      "Please enter your userId\n",
      "    If you are a new user then please leave blank\n",
      "\n",
      "\n",
      " ['adventure', 'romance', 'fantasy', 'war', 'drama', 'animation', 'documentary', 'sci-fi', 'thriller', 'western', '(no genres listed)', 'children', 'action', 'horror', 'mystery', 'musical', 'crime', 'film-noir', 'imax', 'comedy']\n",
      "\n",
      "\n",
      "Are you a fan on any particular genres? \n",
      "    If so please select from the above list (separated by a ',')\n",
      "    otherwise please type 'no'\n",
      "\n",
      "romance,comedy,horror\n",
      "\n",
      "On a scale of 0-5, what would you rate this movie?\n",
      "\n",
      "movie name: In America (2002)\n",
      "movie genre: Drama|Romance\n",
      "\n",
      "If you would prefer to not rate then please type 'skip'\n",
      "2\n",
      "\n",
      "On a scale of 0-5, what would you rate this movie?\n",
      "\n",
      "movie name: Charlie's Angels: Full Throttle (2003)\n",
      "movie genre: Action|Adventure|Comedy|Crime|Thriller\n",
      "\n",
      "If you would prefer to not rate then please type 'skip'\n",
      "4\n",
      "\n",
      "On a scale of 0-5, what would you rate this movie?\n",
      "\n",
      "movie name: O Brother, Where Art Thou? (2000)\n",
      "movie genre: Adventure|Comedy|Crime\n",
      "\n",
      "If you would prefer to not rate then please type 'skip'\n",
      "5\n",
      "\n",
      "On a scale of 0-5, what would you rate this movie?\n",
      "\n",
      "movie name: Beyond the Valley of the Dolls (1970)\n",
      "movie genre: Comedy|Horror\n",
      "\n",
      "If you would prefer to not rate then please type 'skip'\n",
      "2\n",
      "\n",
      "On a scale of 0-5, what would you rate this movie?\n",
      "\n",
      "movie name: Ride Along (2014)\n",
      "movie genre: Action|Comedy\n",
      "\n",
      "If you would prefer to not rate then please type 'skip'\n",
      "gh\n",
      "please enter a rating between 0-5\n",
      "4\n",
      "Estimating biases using als...\n"
     ]
    },
    {
     "data": {
      "text/html": [
       "<div>\n",
       "<style scoped>\n",
       "    .dataframe tbody tr th:only-of-type {\n",
       "        vertical-align: middle;\n",
       "    }\n",
       "\n",
       "    .dataframe tbody tr th {\n",
       "        vertical-align: top;\n",
       "    }\n",
       "\n",
       "    .dataframe thead th {\n",
       "        text-align: right;\n",
       "    }\n",
       "</style>\n",
       "<table border=\"1\" class=\"dataframe\">\n",
       "  <thead>\n",
       "    <tr style=\"text-align: right;\">\n",
       "      <th></th>\n",
       "      <th>movieId</th>\n",
       "      <th>Title</th>\n",
       "      <th>Predicted_Score</th>\n",
       "      <th>ratings_count_rank</th>\n",
       "    </tr>\n",
       "  </thead>\n",
       "  <tbody>\n",
       "    <tr>\n",
       "      <td>0</td>\n",
       "      <td>4011</td>\n",
       "      <td>Snatch (2000)</td>\n",
       "      <td>4.180390</td>\n",
       "      <td>156.0</td>\n",
       "    </tr>\n",
       "    <tr>\n",
       "      <td>1</td>\n",
       "      <td>1387</td>\n",
       "      <td>Jaws (1975)</td>\n",
       "      <td>4.054398</td>\n",
       "      <td>169.0</td>\n",
       "    </tr>\n",
       "    <tr>\n",
       "      <td>2</td>\n",
       "      <td>3549</td>\n",
       "      <td>Guys and Dolls (1955)</td>\n",
       "      <td>3.968112</td>\n",
       "      <td>2671.0</td>\n",
       "    </tr>\n",
       "    <tr>\n",
       "      <td>3</td>\n",
       "      <td>4437</td>\n",
       "      <td>Suspiria (1977)</td>\n",
       "      <td>3.944588</td>\n",
       "      <td>2671.0</td>\n",
       "    </tr>\n",
       "    <tr>\n",
       "      <td>4</td>\n",
       "      <td>7387</td>\n",
       "      <td>Dawn of the Dead (1978)</td>\n",
       "      <td>3.935932</td>\n",
       "      <td>1297.0</td>\n",
       "    </tr>\n",
       "    <tr>\n",
       "      <td>5</td>\n",
       "      <td>54281</td>\n",
       "      <td>Charlie Bartlett (2007)</td>\n",
       "      <td>3.896226</td>\n",
       "      <td>3650.0</td>\n",
       "    </tr>\n",
       "    <tr>\n",
       "      <td>6</td>\n",
       "      <td>5328</td>\n",
       "      <td>Rain (2001)</td>\n",
       "      <td>3.894005</td>\n",
       "      <td>9724.0</td>\n",
       "    </tr>\n",
       "    <tr>\n",
       "      <td>7</td>\n",
       "      <td>3676</td>\n",
       "      <td>Eraserhead (1977)</td>\n",
       "      <td>3.869111</td>\n",
       "      <td>2269.0</td>\n",
       "    </tr>\n",
       "    <tr>\n",
       "      <td>8</td>\n",
       "      <td>5377</td>\n",
       "      <td>About a Boy (2002)</td>\n",
       "      <td>3.810992</td>\n",
       "      <td>549.0</td>\n",
       "    </tr>\n",
       "    <tr>\n",
       "      <td>9</td>\n",
       "      <td>44929</td>\n",
       "      <td>Candy (2006)</td>\n",
       "      <td>3.810013</td>\n",
       "      <td>6278.0</td>\n",
       "    </tr>\n",
       "  </tbody>\n",
       "</table>\n",
       "</div>"
      ],
      "text/plain": [
       "   movieId                    Title  Predicted_Score  ratings_count_rank\n",
       "0     4011            Snatch (2000)         4.180390               156.0\n",
       "1     1387              Jaws (1975)         4.054398               169.0\n",
       "2     3549    Guys and Dolls (1955)         3.968112              2671.0\n",
       "3     4437          Suspiria (1977)         3.944588              2671.0\n",
       "4     7387  Dawn of the Dead (1978)         3.935932              1297.0\n",
       "5    54281  Charlie Bartlett (2007)         3.896226              3650.0\n",
       "6     5328              Rain (2001)         3.894005              9724.0\n",
       "7     3676        Eraserhead (1977)         3.869111              2269.0\n",
       "8     5377       About a Boy (2002)         3.810992               549.0\n",
       "9    44929             Candy (2006)         3.810013              6278.0"
      ]
     },
     "execution_count": 458,
     "metadata": {},
     "output_type": "execute_result"
    }
   ],
   "source": [
    "cold_start_recommender(5)"
   ]
  },
  {
   "cell_type": "code",
   "execution_count": 422,
   "metadata": {},
   "outputs": [
    {
     "data": {
      "text/html": [
       "<div>\n",
       "<style scoped>\n",
       "    .dataframe tbody tr th:only-of-type {\n",
       "        vertical-align: middle;\n",
       "    }\n",
       "\n",
       "    .dataframe tbody tr th {\n",
       "        vertical-align: top;\n",
       "    }\n",
       "\n",
       "    .dataframe thead th {\n",
       "        text-align: right;\n",
       "    }\n",
       "</style>\n",
       "<table border=\"1\" class=\"dataframe\">\n",
       "  <thead>\n",
       "    <tr style=\"text-align: right;\">\n",
       "      <th></th>\n",
       "      <th>movieId</th>\n",
       "      <th>rating</th>\n",
       "      <th>userId</th>\n",
       "    </tr>\n",
       "  </thead>\n",
       "  <tbody>\n",
       "    <tr>\n",
       "      <td>100835</td>\n",
       "      <td>170875</td>\n",
       "      <td>3.0</td>\n",
       "      <td>610</td>\n",
       "    </tr>\n",
       "    <tr>\n",
       "      <td>100836</td>\n",
       "      <td>71518</td>\n",
       "      <td>2.0</td>\n",
       "      <td>611</td>\n",
       "    </tr>\n",
       "    <tr>\n",
       "      <td>100837</td>\n",
       "      <td>49220</td>\n",
       "      <td>3.0</td>\n",
       "      <td>611</td>\n",
       "    </tr>\n",
       "    <tr>\n",
       "      <td>100838</td>\n",
       "      <td>468</td>\n",
       "      <td>4.0</td>\n",
       "      <td>611</td>\n",
       "    </tr>\n",
       "    <tr>\n",
       "      <td>100839</td>\n",
       "      <td>6803</td>\n",
       "      <td>3.0</td>\n",
       "      <td>611</td>\n",
       "    </tr>\n",
       "    <tr>\n",
       "      <td>100840</td>\n",
       "      <td>4079</td>\n",
       "      <td>4.0</td>\n",
       "      <td>611</td>\n",
       "    </tr>\n",
       "    <tr>\n",
       "      <td>100841</td>\n",
       "      <td>3230</td>\n",
       "      <td>5.0</td>\n",
       "      <td>611</td>\n",
       "    </tr>\n",
       "    <tr>\n",
       "      <td>100842</td>\n",
       "      <td>26681</td>\n",
       "      <td>4.0</td>\n",
       "      <td>612</td>\n",
       "    </tr>\n",
       "    <tr>\n",
       "      <td>100843</td>\n",
       "      <td>27036</td>\n",
       "      <td>3.0</td>\n",
       "      <td>612</td>\n",
       "    </tr>\n",
       "    <tr>\n",
       "      <td>100844</td>\n",
       "      <td>72294</td>\n",
       "      <td>3.0</td>\n",
       "      <td>612</td>\n",
       "    </tr>\n",
       "  </tbody>\n",
       "</table>\n",
       "</div>"
      ],
      "text/plain": [
       "        movieId  rating  userId\n",
       "100835   170875     3.0     610\n",
       "100836    71518     2.0     611\n",
       "100837    49220     3.0     611\n",
       "100838      468     4.0     611\n",
       "100839     6803     3.0     611\n",
       "100840     4079     4.0     611\n",
       "100841     3230     5.0     611\n",
       "100842    26681     4.0     612\n",
       "100843    27036     3.0     612\n",
       "100844    72294     3.0     612"
      ]
     },
     "execution_count": 422,
     "metadata": {},
     "output_type": "execute_result"
    }
   ],
   "source": [
    "# check that the new user and ratings have been added to the ratings table\n",
    "ratings_clean_copy.tail(10)"
   ]
  },
  {
   "cell_type": "code",
   "execution_count": null,
   "metadata": {},
   "outputs": [],
   "source": []
  }
 ],
 "metadata": {
  "kernelspec": {
   "display_name": "Python 3",
   "language": "python",
   "name": "python3"
  },
  "language_info": {
   "codemirror_mode": {
    "name": "ipython",
    "version": 3
   },
   "file_extension": ".py",
   "mimetype": "text/x-python",
   "name": "python",
   "nbconvert_exporter": "python",
   "pygments_lexer": "ipython3",
   "version": "3.7.4"
  }
 },
 "nbformat": 4,
 "nbformat_minor": 2
}
